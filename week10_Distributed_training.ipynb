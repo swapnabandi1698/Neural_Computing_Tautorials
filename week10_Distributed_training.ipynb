{
 "cells": [
  {
   "cell_type": "markdown",
   "metadata": {
    "id": "BAfJCaULD2Yp"
   },
   "source": [
    "# Distributed Training of Neural Network Models\n",
    "\n",
    "\n",
    "Below is the basic implementation of Federated Learning code for 2 clients and a server for one communication round using the MNIST dataset.\n",
    "\n",
    "Your task for this lab is to utilize this code as a benchmark and accomplish  the following objectives:\n",
    "\n",
    "1. Comment each section of the code to understand its functionality.\n",
    "\n",
    "2. Experiment with different neural network architectures, varying the number of layers and activation functions\n",
    "\n",
    "3. Assess the model's performance (accuracy, precision, recall, and f-score) as the number of clients changes. Utilize 2, 4, 6, 8, and 10 clients, and plot a graph illustrating the model's performance across varying client counts.\n",
    "\n",
    "4. Introduce one dishonest client for a any sepcific number of clients of your choice. For this client, assign some training labels ('y_train') to a specific label, such as '4'. Analyze how the performance ((accuracy, precision, recall, and f-score)) of the global model is affected by the presence of a dishonest client. Find approximately how many labels need to be maliciously altered so that the performance degrades."
   ]
  },
  {
   "cell_type": "code",
   "execution_count": null,
   "metadata": {
    "id": "qegNJcq3LB7m"
   },
   "outputs": [],
   "source": []
  },
  {
   "cell_type": "code",
   "execution_count": 1,
   "metadata": {
    "colab": {
     "base_uri": "https://localhost:8080/"
    },
    "id": "P_GFzZjxRR5O",
    "outputId": "dd690a92-44f7-4435-f81a-f479d4b0c74e"
   },
   "outputs": [
    {
     "name": "stdout",
     "output_type": "stream",
     "text": [
      "Downloading data from https://storage.googleapis.com/tensorflow/tf-keras-datasets/mnist.npz\n",
      "11490434/11490434 [==============================] - 0s 0us/step\n"
     ]
    }
   ],
   "source": [
    "import numpy as np\n",
    "import tensorflow as tf\n",
    "from tensorflow.keras.datasets import mnist\n",
    "from tensorflow.keras.models import Sequential\n",
    "from tensorflow.keras.layers import Dense, Flatten\n",
    "from tensorflow.keras.optimizers import SGD\n",
    "from sklearn.model_selection import train_test_split\n",
    "from keras import backend as K\n",
    "import random\n",
    "\n",
    "\n",
    "np.random.seed(2243313) # Set seed for numpy. Put your SID instead of number '42'\n",
    "random.seed(2243313) # Set seed for Python's built-in random number generator.  Put your SID instead of number '42'\n",
    "tf.random.set_seed(2243313) # Set seed for TensorFlow. Put your SID instead of number '42'\n",
    "K.clear_session()\n",
    "\n",
    "\n",
    "# Load MNIST dataset\n",
    "(x_train, y_train), (x_test, y_test) = mnist.load_data()\n",
    "\n",
    "# Normalize and reshape data\n",
    "x_train = x_train.astype('float32') / 255.0\n",
    "x_test = x_test.astype('float32') / 255.0\n",
    "x_train = np.expand_dims(x_train, -1)\n",
    "x_test = np.expand_dims(x_test, -1)\n",
    "\n",
    "# Define client functions\n",
    "def create_client_model():\n",
    "    model = Sequential([\n",
    "        Flatten(input_shape=(28, 28, 1)),\n",
    "        Dense(128, activation='relu'),\n",
    "        Dense(10, activation='softmax')\n",
    "    ])\n",
    "    model.compile(optimizer='adam', loss='sparse_categorical_crossentropy', metrics=['accuracy'])\n",
    "    return model\n",
    "\n",
    "def train_client_model(model, x_train, y_train, epochs=5):\n",
    "    model.fit(x_train, y_train, epochs=epochs, verbose=0)\n",
    "    return model\n",
    "\n",
    "\n"
   ]
  },
  {
   "cell_type": "markdown",
   "metadata": {
    "id": "pbUELLpHXFuK"
   },
   "source": [
    "2 Clients"
   ]
  },
  {
   "cell_type": "code",
   "execution_count": 2,
   "metadata": {
    "colab": {
     "base_uri": "https://localhost:8080/"
    },
    "id": "wX-0IzAJXC3n",
    "outputId": "72c87e6a-327a-4891-f220-8961715805be"
   },
   "outputs": [
    {
     "name": "stdout",
     "output_type": "stream",
     "text": [
      "(30000, 28, 28, 1)\n",
      "(30000, 28, 28, 1)\n",
      "(30000,)\n",
      "(30000,)\n"
     ]
    }
   ],
   "source": [
    "# Split data into two clients\n",
    "x_train_c1, x_train_c2, y_train_c1, y_train_c2 = train_test_split(x_train, y_train, test_size=0.5, random_state=2243313)\n",
    "\n",
    "print(x_train_c1.shape)\n",
    "print(x_train_c2.shape)\n",
    "print(y_train_c1.shape)\n",
    "print(y_train_c2.shape)\n",
    "\n",
    "# Create and train client models\n",
    "client1_model = create_client_model()\n",
    "client2_model = create_client_model()\n",
    "\n",
    "client1_model = train_client_model(client1_model, x_train_c1, y_train_c1)\n",
    "client2_model = train_client_model(client2_model, x_train_c2, y_train_c2)\n",
    "\n"
   ]
  },
  {
   "cell_type": "code",
   "execution_count": 3,
   "metadata": {
    "colab": {
     "base_uri": "https://localhost:8080/"
    },
    "id": "5o40oFOMXNAD",
    "outputId": "3cf13ce6-a529-4e1f-a08b-17d61739385c"
   },
   "outputs": [
    {
     "name": "stdout",
     "output_type": "stream",
     "text": [
      "313/313 - 2s - loss: 0.4435 - accuracy: 0.8639 - 2s/epoch - 5ms/step\n",
      "Test accuracy: 0.8639000058174133\n"
     ]
    }
   ],
   "source": [
    "# Federated averaging\n",
    "def federated_average_weights(weights1, weights2):\n",
    "    new_weights = []\n",
    "    for w1, w2 in zip(weights1, weights2):\n",
    "        new_weights.append((w1 + w2) / 2)\n",
    "    return new_weights\n",
    "\n",
    "# Aggregate models\n",
    "aggregated_weights = federated_average_weights(client1_model.get_weights(), client2_model.get_weights())\n",
    "\n",
    "# Create global model and set weights\n",
    "global_model = create_client_model()\n",
    "global_model.set_weights(aggregated_weights)\n",
    "\n",
    "# Evaluate global model\n",
    "test_loss, test_acc = global_model.evaluate(x_test, y_test, verbose=2)\n",
    "print('Test accuracy:', test_acc)\n"
   ]
  },
  {
   "cell_type": "code",
   "execution_count": 4,
   "metadata": {
    "id": "ExzIbmV8YCz4"
   },
   "outputs": [],
   "source": [
    "test_accuracy = []\n"
   ]
  },
  {
   "cell_type": "markdown",
   "metadata": {
    "id": "KUVQ9WjpXEuE"
   },
   "source": []
  },
  {
   "cell_type": "code",
   "execution_count": 5,
   "metadata": {
    "colab": {
     "base_uri": "https://localhost:8080/"
    },
    "id": "hqRK7kT_YGAi",
    "outputId": "db07479f-1167-4998-9944-8b3292e21bc4"
   },
   "outputs": [
    {
     "data": {
      "text/plain": [
       "[0.8652999997138977]"
      ]
     },
     "execution_count": 5,
     "metadata": {},
     "output_type": "execute_result"
    }
   ],
   "source": [
    "test_accuracy.append(0.8652999997138977)\n",
    "test_accuracy"
   ]
  },
  {
   "cell_type": "code",
   "execution_count": 6,
   "metadata": {
    "id": "a1yfwXmdYW5z"
   },
   "outputs": [],
   "source": [
    "from sklearn.metrics import classification_report\n",
    "from sklearn.metrics import accuracy_score, precision_score, recall_score, f1_score"
   ]
  },
  {
   "cell_type": "code",
   "execution_count": 7,
   "metadata": {
    "colab": {
     "base_uri": "https://localhost:8080/"
    },
    "id": "H5QH5QpEYepp",
    "outputId": "35eb50d1-f874-4da9-aa96-9ece4afed4e8"
   },
   "outputs": [
    {
     "name": "stdout",
     "output_type": "stream",
     "text": [
      "313/313 [==============================] - 1s 3ms/step\n",
      "(10000, 10)\n"
     ]
    }
   ],
   "source": [
    "predictions = global_model.predict(x_test)\n",
    "print(predictions.shape)\n",
    "\n",
    "predictions = list(predictions.argmax(axis=1))"
   ]
  },
  {
   "cell_type": "code",
   "execution_count": 8,
   "metadata": {
    "colab": {
     "base_uri": "https://localhost:8080/"
    },
    "id": "pu7FCu2KYf4j",
    "outputId": "aca67183-8061-4ab2-9b4a-07409b30dbae"
   },
   "outputs": [
    {
     "name": "stdout",
     "output_type": "stream",
     "text": [
      "              precision    recall  f1-score   support\n",
      "\n",
      "           0       0.99      0.31      0.48       980\n",
      "           1       0.97      0.98      0.98      1135\n",
      "           2       0.83      0.97      0.90      1032\n",
      "           3       0.87      0.94      0.91      1010\n",
      "           4       0.98      0.85      0.91       982\n",
      "           5       0.75      0.91      0.82       892\n",
      "           6       0.68      0.98      0.80       958\n",
      "           7       0.89      0.95      0.92      1028\n",
      "           8       0.95      0.84      0.89       974\n",
      "           9       0.92      0.87      0.89      1009\n",
      "\n",
      "    accuracy                           0.86     10000\n",
      "   macro avg       0.88      0.86      0.85     10000\n",
      "weighted avg       0.89      0.86      0.85     10000\n",
      "\n"
     ]
    }
   ],
   "source": [
    "print(classification_report(y_test, predictions))"
   ]
  },
  {
   "cell_type": "code",
   "execution_count": 9,
   "metadata": {
    "colab": {
     "base_uri": "https://localhost:8080/"
    },
    "id": "leFS-zB4Ymr-",
    "outputId": "820d97cb-3014-4f6b-f560-3bd5cf3adbde"
   },
   "outputs": [
    {
     "name": "stdout",
     "output_type": "stream",
     "text": [
      "Accuracy test set:  0.8639\n",
      "Precision test set:  0.8851765752731832\n",
      "Recall test set:  0.8639\n",
      "F-score test set:  0.8524681215604153\n"
     ]
    }
   ],
   "source": [
    "print(\"Accuracy test set: \", accuracy_score(y_test, predictions))\n",
    "\n",
    "print(\"Precision test set: \", precision_score(y_test, predictions, average = 'weighted' ))\n",
    "print(\"Recall test set: \", recall_score(y_test, predictions, average = 'weighted' ))\n",
    "print(\"F-score test set: \", f1_score(y_test, predictions, average = 'weighted' ))"
   ]
  },
  {
   "cell_type": "code",
   "execution_count": 10,
   "metadata": {
    "id": "_49SGsbkZCvm"
   },
   "outputs": [],
   "source": [
    "test_precision = []\n",
    "test_recall    = []\n",
    "test_f1_score  = []"
   ]
  },
  {
   "cell_type": "code",
   "execution_count": 11,
   "metadata": {
    "id": "7AonxQGFY3QS"
   },
   "outputs": [],
   "source": [
    "test_precision.append(0.8856584458216805)\n",
    "test_recall.append(0.8653)\n",
    "test_f1_score.append(0.8554286671379913)"
   ]
  },
  {
   "cell_type": "code",
   "execution_count": 12,
   "metadata": {
    "id": "vO8uG61SPyPO"
   },
   "outputs": [],
   "source": [
    "from sklearn.metrics import confusion_matrix, ConfusionMatrixDisplay"
   ]
  },
  {
   "cell_type": "code",
   "execution_count": 13,
   "metadata": {
    "colab": {
     "base_uri": "https://localhost:8080/",
     "height": 449
    },
    "id": "gTrf5c5nYcxE",
    "outputId": "fc7e5d0c-fce6-47e1-c92f-c366bf30cd93"
   },
   "outputs": [
    {
     "data": {
      "image/png": "[encoded data removed]",
      "text/plain": [
       "<Figure size 640x480 with 2 Axes>"
      ]
     },
     "metadata": {},
     "output_type": "display_data"
    }
   ],
   "source": [
    "# display confusion matrix between test output and predicted output\n",
    "\n",
    "cm = confusion_matrix(y_test, predictions)\n",
    "disp = ConfusionMatrixDisplay(confusion_matrix = cm)\n",
    "disp.plot();\n",
    "#plt.show()"
   ]
  },
  {
   "cell_type": "code",
   "execution_count": 13,
   "metadata": {
    "id": "I1-jrD1iRzme"
   },
   "outputs": [],
   "source": []
  },
  {
   "cell_type": "markdown",
   "metadata": {
    "id": "NPFb9wX1Zp7L"
   },
   "source": [
    "4 Clients"
   ]
  },
  {
   "cell_type": "code",
   "execution_count": 14,
   "metadata": {
    "id": "9jBFHeLFZwtD"
   },
   "outputs": [],
   "source": [
    "# Split data into 4 clients"
   ]
  },
  {
   "cell_type": "code",
   "execution_count": 15,
   "metadata": {
    "id": "jTb2QJjzZ2ZY"
   },
   "outputs": [],
   "source": [
    "Client_1 = (x_train[0:15000], y_train[0:15000])\n",
    "Client_2 = (x_train[15000:30000], y_train[15000:30000])\n",
    "Client_3 = (x_train[30000:45000], y_train[30000:45000])\n",
    "Client_4 = (x_train[45000:], y_train[45000:])"
   ]
  },
  {
   "cell_type": "code",
   "execution_count": 16,
   "metadata": {
    "colab": {
     "base_uri": "https://localhost:8080/"
    },
    "id": "zIwOxYGYZ5yk",
    "outputId": "e469c97d-7ade-4fc9-adfc-cc47a964e58e"
   },
   "outputs": [
    {
     "name": "stdout",
     "output_type": "stream",
     "text": [
      "(15000, 28, 28, 1)\n",
      "(15000, 28, 28, 1)\n",
      "(15000, 28, 28, 1)\n",
      "(15000, 28, 28, 1)\n",
      "(15000,)\n",
      "(15000,)\n",
      "(15000,)\n",
      "(15000,)\n"
     ]
    }
   ],
   "source": [
    "print(Client_1[0].shape)\n",
    "print(Client_2[0].shape)\n",
    "print(Client_3[0].shape)\n",
    "print(Client_4[0].shape)\n",
    "\n",
    "print(Client_1[1].shape)\n",
    "print(Client_2[1].shape)\n",
    "print(Client_3[1].shape)\n",
    "print(Client_4[1].shape)"
   ]
  },
  {
   "cell_type": "code",
   "execution_count": 17,
   "metadata": {
    "id": "gepR22vGZ-6K"
   },
   "outputs": [],
   "source": [
    "# Create and train client models\n",
    "client1_model = create_client_model()\n",
    "client2_model = create_client_model()\n",
    "client3_model = create_client_model()\n",
    "client4_model = create_client_model()\n",
    "\n",
    "client1_model = train_client_model(client1_model, Client_1[0], Client_1[1])\n",
    "client2_model = train_client_model(client2_model, Client_2[0], Client_1[1])\n",
    "client3_model = train_client_model(client3_model, Client_3[0], Client_1[1])\n",
    "client4_model = train_client_model(client4_model, Client_4[0], Client_1[1])"
   ]
  },
  {
   "cell_type": "code",
   "execution_count": 18,
   "metadata": {
    "id": "RFjcBGysaI4w"
   },
   "outputs": [],
   "source": [
    "# Federated averaging\n",
    "def federated_average_weights(weights1, weights2, weights3, weights4):\n",
    "    new_weights = []\n",
    "    for w1, w2, w3, w4 in zip(weights1, weights2, weights3, weights4):\n",
    "        new_weights.append((w1 + w2 + w3 + w4) / 4)\n",
    "    return new_weights\n"
   ]
  },
  {
   "cell_type": "code",
   "execution_count": 19,
   "metadata": {
    "id": "p8OzY1yTaLFW"
   },
   "outputs": [],
   "source": [
    "# Aggregate models\n",
    "aggregated_weights = federated_average_weights(client1_model.get_weights(),\n",
    "                                               client2_model.get_weights(),\n",
    "                                               client3_model.get_weights(),\n",
    "                                               client4_model.get_weights())\n",
    "\n",
    "# Create global model and set weights\n",
    "global_model = create_client_model()\n",
    "global_model.set_weights(aggregated_weights)"
   ]
  },
  {
   "cell_type": "code",
   "execution_count": 20,
   "metadata": {
    "colab": {
     "base_uri": "https://localhost:8080/"
    },
    "id": "62liyYKmaL9k",
    "outputId": "e9c06df2-f073-4cb3-fec0-a2bbdeddb367"
   },
   "outputs": [
    {
     "name": "stdout",
     "output_type": "stream",
     "text": [
      "313/313 - 1s - loss: 2.2251 - accuracy: 0.3984 - 737ms/epoch - 2ms/step\n",
      "Test accuracy: 0.3984000086784363\n"
     ]
    }
   ],
   "source": [
    "# Evaluate global model\n",
    "test_loss, test_acc = global_model.evaluate(x_test, y_test, verbose=2)\n",
    "print('Test accuracy:', test_acc)"
   ]
  },
  {
   "cell_type": "code",
   "execution_count": 21,
   "metadata": {
    "colab": {
     "base_uri": "https://localhost:8080/"
    },
    "id": "E6EE0ODsaOU3",
    "outputId": "b1360ab5-a27e-4b6e-946d-916e938c9554"
   },
   "outputs": [
    {
     "name": "stdout",
     "output_type": "stream",
     "text": [
      "313/313 [==============================] - 1s 2ms/step\n",
      "(10000, 10)\n"
     ]
    }
   ],
   "source": [
    "predictions = global_model.predict(x_test)\n",
    "print(predictions.shape)\n",
    "\n",
    "predictions = list(predictions.argmax(axis=1))"
   ]
  },
  {
   "cell_type": "code",
   "execution_count": 22,
   "metadata": {
    "colab": {
     "base_uri": "https://localhost:8080/"
    },
    "id": "a5IfIY5saRSP",
    "outputId": "55cdb8b1-1236-4cc3-90ab-5995b724d706"
   },
   "outputs": [
    {
     "name": "stdout",
     "output_type": "stream",
     "text": [
      "Accuracy test set:  0.3984\n",
      "Precision test set:  0.36756040425356656\n",
      "Recall test set:  0.3984\n",
      "F-score test set:  0.36215371297003246\n",
      "              precision    recall  f1-score   support\n",
      "\n",
      "           0       0.34      0.18      0.24       980\n",
      "           1       0.60      0.90      0.72      1135\n",
      "           2       0.32      0.61      0.42      1032\n",
      "           3       0.35      0.55      0.43      1010\n",
      "           4       0.58      0.46      0.51       982\n",
      "           5       0.36      0.16      0.22       892\n",
      "           6       0.36      0.44      0.40       958\n",
      "           7       0.38      0.39      0.39      1028\n",
      "           8       0.24      0.17      0.20       974\n",
      "           9       0.11      0.02      0.03      1009\n",
      "\n",
      "    accuracy                           0.40     10000\n",
      "   macro avg       0.36      0.39      0.36     10000\n",
      "weighted avg       0.37      0.40      0.36     10000\n",
      "\n"
     ]
    }
   ],
   "source": [
    "print(\"Accuracy test set: \", accuracy_score(y_test, predictions))\n",
    "\n",
    "print(\"Precision test set: \", precision_score(y_test, predictions, average = 'weighted' ))\n",
    "print(\"Recall test set: \", recall_score(y_test, predictions, average = 'weighted' ))\n",
    "print(\"F-score test set: \", f1_score(y_test, predictions, average = 'weighted' ))\n",
    "\n",
    "print(classification_report(y_test, predictions))"
   ]
  },
  {
   "cell_type": "code",
   "execution_count": 23,
   "metadata": {
    "id": "r42VozsYaZgA"
   },
   "outputs": [],
   "source": [
    "test_accuracy.append(0.3984000086784363)\n",
    "test_precision.append(0.36756040425356656)\n",
    "test_recall.append(0.3984)\n",
    "test_f1_score.append(0.36215371297003246)"
   ]
  },
  {
   "cell_type": "code",
   "execution_count": 24,
   "metadata": {
    "colab": {
     "base_uri": "https://localhost:8080/"
    },
    "id": "RbAt5LXva1OS",
    "outputId": "1c4aabd6-0afa-4ea5-df2c-3e903d56dad5"
   },
   "outputs": [
    {
     "name": "stdout",
     "output_type": "stream",
     "text": [
      "[0.8652999997138977, 0.3984000086784363]\n",
      "[0.8856584458216805, 0.36756040425356656]\n",
      "[0.8653, 0.3984]\n",
      "[0.8554286671379913, 0.36215371297003246]\n"
     ]
    }
   ],
   "source": [
    "print(test_accuracy)\n",
    "print(test_precision)\n",
    "print(test_recall)\n",
    "print(test_f1_score)"
   ]
  },
  {
   "cell_type": "code",
   "execution_count": 24,
   "metadata": {
    "id": "YhjYhnnwa4aL"
   },
   "outputs": [],
   "source": []
  },
  {
   "cell_type": "markdown",
   "metadata": {
    "id": "C2Eo_DWwa67Y"
   },
   "source": [
    "6 Clients\n"
   ]
  },
  {
   "cell_type": "code",
   "execution_count": 25,
   "metadata": {
    "colab": {
     "base_uri": "https://localhost:8080/"
    },
    "id": "wvMfpOx1a880",
    "outputId": "322a7202-ac55-4bc6-b8bf-1ecdf961893e"
   },
   "outputs": [
    {
     "name": "stdout",
     "output_type": "stream",
     "text": [
      "(10000, 28, 28, 1)\n",
      "(10000, 28, 28, 1)\n",
      "(10000, 28, 28, 1)\n",
      "(10000, 28, 28, 1)\n",
      "(10000, 28, 28, 1)\n",
      "(10000, 28, 28, 1)\n",
      "(10000,)\n",
      "(10000,)\n",
      "(10000,)\n",
      "(10000,)\n",
      "(10000,)\n",
      "(10000,)\n"
     ]
    }
   ],
   "source": [
    "Client_1 = (x_train[0:10000], y_train[0:10000])\n",
    "Client_2 = (x_train[10000:20000], y_train[10000:20000])\n",
    "Client_3 = (x_train[20000:30000], y_train[20000:30000])\n",
    "Client_4 = (x_train[30000:40000], y_train[30000:40000])\n",
    "Client_5 = (x_train[40000:50000], y_train[40000:50000])\n",
    "Client_6 = (x_train[50000:], y_train[50000:])\n",
    "\n",
    "print(Client_1[0].shape)\n",
    "print(Client_2[0].shape)\n",
    "print(Client_3[0].shape)\n",
    "print(Client_4[0].shape)\n",
    "print(Client_5[0].shape)\n",
    "print(Client_6[0].shape)\n",
    "\n",
    "print(Client_1[1].shape)\n",
    "print(Client_2[1].shape)\n",
    "print(Client_3[1].shape)\n",
    "print(Client_4[1].shape)\n",
    "print(Client_5[1].shape)\n",
    "print(Client_6[1].shape)"
   ]
  },
  {
   "cell_type": "code",
   "execution_count": 26,
   "metadata": {
    "id": "21OWCpQFbD6I"
   },
   "outputs": [],
   "source": [
    "# Create and train client models\n",
    "client1_model = create_client_model()\n",
    "client2_model = create_client_model()\n",
    "client3_model = create_client_model()\n",
    "client4_model = create_client_model()\n",
    "client5_model = create_client_model()\n",
    "client6_model = create_client_model()\n",
    "\n",
    "client1_model = train_client_model(client1_model, Client_1[0], Client_1[1])\n",
    "client2_model = train_client_model(client2_model, Client_2[0], Client_1[1])\n",
    "client3_model = train_client_model(client3_model, Client_3[0], Client_1[1])\n",
    "client4_model = train_client_model(client4_model, Client_4[0], Client_1[1])\n",
    "client5_model = train_client_model(client5_model, Client_5[0], Client_5[1])\n",
    "client6_model = train_client_model(client6_model, Client_6[0], Client_6[1])"
   ]
  },
  {
   "cell_type": "code",
   "execution_count": 27,
   "metadata": {
    "id": "rACRb7-lbHtW"
   },
   "outputs": [],
   "source": [
    "# Federated averaging\n",
    "def federated_average_weights(weights1, weights2, weights3, weights4, weights5, weights6):\n",
    "    new_weights = []\n",
    "    for w1, w2, w3, w4, w5, w6 in zip(weights1, weights2, weights3, weights4, weights5, weights6):\n",
    "        new_weights.append((w1 + w2 + w3 + w4 + w5 + w6) / 6)\n",
    "    return new_weights\n",
    "\n",
    "\n",
    "# Aggregate models\n",
    "aggregated_weights = federated_average_weights(client1_model.get_weights(),\n",
    "                                               client2_model.get_weights(),\n",
    "                                               client3_model.get_weights(),\n",
    "                                               client4_model.get_weights(),\n",
    "                                               client5_model.get_weights(),\n",
    "                                               client6_model.get_weights())\n",
    "\n",
    "# Create global model and set weights\n",
    "global_model = create_client_model()\n",
    "global_model.set_weights(aggregated_weights)"
   ]
  },
  {
   "cell_type": "code",
   "execution_count": 28,
   "metadata": {
    "colab": {
     "base_uri": "https://localhost:8080/"
    },
    "id": "i0yrTTYtbKxt",
    "outputId": "5d021448-9011-4618-e290-fbda9b0fe94a"
   },
   "outputs": [
    {
     "name": "stdout",
     "output_type": "stream",
     "text": [
      "313/313 - 1s - loss: 1.9389 - accuracy: 0.7757 - 979ms/epoch - 3ms/step\n",
      "Test accuracy: 0.7756999731063843\n",
      "313/313 [==============================] - 1s 2ms/step\n",
      "(10000, 10)\n",
      "Accuracy test set:  0.7757\n",
      "Precision test set:  0.8016136233957822\n",
      "Recall test set:  0.7757\n",
      "F-score test set:  0.7572420703248711\n",
      "              precision    recall  f1-score   support\n",
      "\n",
      "           0       0.91      0.88      0.89       980\n",
      "           1       0.76      0.99      0.86      1135\n",
      "           2       0.83      0.66      0.74      1032\n",
      "           3       0.63      0.91      0.75      1010\n",
      "           4       0.89      0.88      0.89       982\n",
      "           5       0.79      0.83      0.81       892\n",
      "           6       0.84      0.94      0.89       958\n",
      "           7       0.76      0.65      0.70      1028\n",
      "           8       0.98      0.20      0.34       974\n",
      "           9       0.65      0.80      0.72      1009\n",
      "\n",
      "    accuracy                           0.78     10000\n",
      "   macro avg       0.80      0.77      0.76     10000\n",
      "weighted avg       0.80      0.78      0.76     10000\n",
      "\n"
     ]
    }
   ],
   "source": [
    "# Evaluate global model\n",
    "test_loss, test_acc = global_model.evaluate(x_test, y_test, verbose=2)\n",
    "print('Test accuracy:', test_acc)\n",
    "\n",
    "predictions = global_model.predict(x_test)\n",
    "print(predictions.shape)\n",
    "\n",
    "predictions = list(predictions.argmax(axis=1))\n",
    "\n",
    "print(\"Accuracy test set: \", accuracy_score(y_test, predictions))\n",
    "\n",
    "print(\"Precision test set: \", precision_score(y_test, predictions, average = 'weighted' ))\n",
    "print(\"Recall test set: \", recall_score(y_test, predictions, average = 'weighted' ))\n",
    "print(\"F-score test set: \", f1_score(y_test, predictions, average = 'weighted' ))\n",
    "\n",
    "print(classification_report(y_test, predictions))"
   ]
  },
  {
   "cell_type": "code",
   "execution_count": 29,
   "metadata": {
    "colab": {
     "base_uri": "https://localhost:8080/"
    },
    "id": "fbtNVwTwbL0I",
    "outputId": "b95af300-5257-4ab5-96c7-4e0f84628bb9"
   },
   "outputs": [
    {
     "name": "stdout",
     "output_type": "stream",
     "text": [
      "[0.8652999997138977, 0.3984000086784363, 0.7756999731063843]\n",
      "[0.8856584458216805, 0.36756040425356656, 0.8016136233957822]\n",
      "[0.8653, 0.3984, 0.7757]\n",
      "[0.8554286671379913, 0.36215371297003246, 0.7572420703248711]\n"
     ]
    }
   ],
   "source": [
    "test_accuracy.append(0.7756999731063843)\n",
    "test_precision.append(0.8016136233957822)\n",
    "test_recall.append(0.7757)\n",
    "test_f1_score.append(0.7572420703248711)\n",
    "\n",
    "print(test_accuracy)\n",
    "print(test_precision)\n",
    "print(test_recall)\n",
    "print(test_f1_score)"
   ]
  },
  {
   "cell_type": "markdown",
   "metadata": {
    "id": "NFD7irO3bQh_"
   },
   "source": [
    "8 Clients\n"
   ]
  },
  {
   "cell_type": "code",
   "execution_count": 30,
   "metadata": {
    "colab": {
     "base_uri": "https://localhost:8080/"
    },
    "id": "2qSHIIo4bSrA",
    "outputId": "5f3b2d66-70ce-453b-e3ad-1b03617d4dcf"
   },
   "outputs": [
    {
     "name": "stdout",
     "output_type": "stream",
     "text": [
      "(7500, 28, 28, 1)\n",
      "(7500, 28, 28, 1)\n",
      "(7500, 28, 28, 1)\n",
      "(7500, 28, 28, 1)\n",
      "(7500, 28, 28, 1)\n",
      "(7500, 28, 28, 1)\n",
      "(7500, 28, 28, 1)\n",
      "(7500, 28, 28, 1)\n",
      "(7500,)\n",
      "(7500,)\n",
      "(7500,)\n",
      "(7500,)\n",
      "(7500,)\n",
      "(7500,)\n",
      "(7500,)\n",
      "(7500,)\n"
     ]
    }
   ],
   "source": [
    "Client_1 = (x_train[0:7500], y_train[0:7500])\n",
    "Client_2 = (x_train[7500:15000], y_train[7500:15000])\n",
    "Client_3 = (x_train[15000:22500], y_train[15000:22500])\n",
    "Client_4 = (x_train[22500:30000], y_train[22500:30000])\n",
    "Client_5 = (x_train[30000:37500], y_train[30000:37500])\n",
    "Client_6 = (x_train[37500:45000], y_train[37500:45000])\n",
    "Client_7 = (x_train[45000:52500], y_train[45000:52500])\n",
    "Client_8 = (x_train[52500:], y_train[52500:])\n",
    "\n",
    "print(Client_1[0].shape)\n",
    "print(Client_2[0].shape)\n",
    "print(Client_3[0].shape)\n",
    "print(Client_4[0].shape)\n",
    "print(Client_5[0].shape)\n",
    "print(Client_6[0].shape)\n",
    "print(Client_7[0].shape)\n",
    "print(Client_8[0].shape)\n",
    "\n",
    "print(Client_1[1].shape)\n",
    "print(Client_2[1].shape)\n",
    "print(Client_3[1].shape)\n",
    "print(Client_4[1].shape)\n",
    "print(Client_5[1].shape)\n",
    "print(Client_6[1].shape)\n",
    "print(Client_7[1].shape)\n",
    "print(Client_8[1].shape)\n",
    "\n",
    "# Create and train client models\n",
    "client1_model = create_client_model()\n",
    "client2_model = create_client_model()\n",
    "client3_model = create_client_model()\n",
    "client4_model = create_client_model()\n",
    "client5_model = create_client_model()\n",
    "client6_model = create_client_model()\n",
    "client7_model = create_client_model()\n",
    "client8_model = create_client_model()\n",
    "\n",
    "client1_model = train_client_model(client1_model, Client_1[0], Client_1[1])\n",
    "client2_model = train_client_model(client2_model, Client_2[0], Client_1[1])\n",
    "client3_model = train_client_model(client3_model, Client_3[0], Client_1[1])\n",
    "client4_model = train_client_model(client4_model, Client_4[0], Client_1[1])\n",
    "client5_model = train_client_model(client5_model, Client_5[0], Client_5[1])\n",
    "client6_model = train_client_model(client6_model, Client_6[0], Client_6[1])\n",
    "client7_model = train_client_model(client7_model, Client_7[0], Client_7[1])\n",
    "client8_model = train_client_model(client8_model, Client_8[0], Client_8[1])"
   ]
  },
  {
   "cell_type": "code",
   "execution_count": 31,
   "metadata": {
    "id": "wuPIy_KgbpZa"
   },
   "outputs": [],
   "source": [
    "# Federated averaging\n",
    "def federated_average_weights(weights1, weights2, weights3, weights4,\n",
    "                              weights5, weights6, weights7, weights8):\n",
    "    new_weights = []\n",
    "    for w1, w2, w3, w4, w5, w6, w7, w8 in zip(weights1, weights2, weights3, weights4,\n",
    "                                              weights5, weights6, weights7, weights8):\n",
    "        new_weights.append((w1 + w2 + w3 + w4 + w5 + w6 + w7 +w8) / 8)\n",
    "    return new_weights\n",
    "\n",
    "\n",
    "# Aggregate models\n",
    "aggregated_weights = federated_average_weights(client1_model.get_weights(),\n",
    "                                               client2_model.get_weights(),\n",
    "                                               client3_model.get_weights(),\n",
    "                                               client4_model.get_weights(),\n",
    "                                               client5_model.get_weights(),\n",
    "                                               client6_model.get_weights(),\n",
    "                                               client7_model.get_weights(),\n",
    "                                               client8_model.get_weights())\n",
    "\n",
    "# Create global model and set weights\n",
    "global_model = create_client_model()\n",
    "global_model.set_weights(aggregated_weights)"
   ]
  },
  {
   "cell_type": "code",
   "execution_count": 32,
   "metadata": {
    "colab": {
     "base_uri": "https://localhost:8080/"
    },
    "id": "Ugs8xTx_br2K",
    "outputId": "693704d1-ed54-4cdd-9447-0462dcdc3768"
   },
   "outputs": [
    {
     "name": "stdout",
     "output_type": "stream",
     "text": [
      "313/313 - 1s - loss: 1.8611 - accuracy: 0.6007 - 659ms/epoch - 2ms/step\n",
      "Test accuracy: 0.6007000207901001\n",
      "313/313 [==============================] - 0s 1ms/step\n",
      "(10000, 10)\n",
      "Accuracy test set:  0.6007\n",
      "Precision test set:  0.7780698625596445\n",
      "Recall test set:  0.6007\n",
      "F-score test set:  0.5536263795558658\n",
      "              precision    recall  f1-score   support\n",
      "\n",
      "           0       0.98      0.24      0.38       980\n",
      "           1       0.98      0.80      0.88      1135\n",
      "           2       0.35      0.96      0.51      1032\n",
      "           3       0.77      0.74      0.75      1010\n",
      "           4       0.92      0.75      0.83       982\n",
      "           5       0.50      0.69      0.58       892\n",
      "           6       0.81      0.75      0.78       958\n",
      "           7       0.48      0.95      0.64      1028\n",
      "           8       0.97      0.06      0.12       974\n",
      "           9       1.00      0.01      0.02      1009\n",
      "\n",
      "    accuracy                           0.60     10000\n",
      "   macro avg       0.78      0.60      0.55     10000\n",
      "weighted avg       0.78      0.60      0.55     10000\n",
      "\n"
     ]
    }
   ],
   "source": [
    "# Evaluate global model\n",
    "test_loss, test_acc = global_model.evaluate(x_test, y_test, verbose=2)\n",
    "print('Test accuracy:', test_acc)\n",
    "\n",
    "predictions = global_model.predict(x_test)\n",
    "print(predictions.shape)\n",
    "\n",
    "predictions = list(predictions.argmax(axis=1))\n",
    "\n",
    "print(\"Accuracy test set: \", accuracy_score(y_test, predictions))\n",
    "\n",
    "print(\"Precision test set: \", precision_score(y_test, predictions, average = 'weighted' ))\n",
    "print(\"Recall test set: \", recall_score(y_test, predictions, average = 'weighted' ))\n",
    "print(\"F-score test set: \", f1_score(y_test, predictions, average = 'weighted' ))\n",
    "\n",
    "print(classification_report(y_test, predictions))"
   ]
  },
  {
   "cell_type": "code",
   "execution_count": 33,
   "metadata": {
    "colab": {
     "base_uri": "https://localhost:8080/"
    },
    "id": "r2JCTTKPcThj",
    "outputId": "fb39792b-7291-4fff-8a39-d7e545de93a6"
   },
   "outputs": [
    {
     "name": "stdout",
     "output_type": "stream",
     "text": [
      "[0.8652999997138977, 0.3984000086784363, 0.7756999731063843, 0.613099992275238]\n",
      "[0.8856584458216805, 0.36756040425356656, 0.8016136233957822, 0.7794261997113192]\n",
      "[0.8653, 0.3984, 0.7757, 0.6131]\n",
      "[0.8554286671379913, 0.36215371297003246, 0.7572420703248711, 0.5622667678899905]\n"
     ]
    }
   ],
   "source": [
    "test_accuracy.append(0.613099992275238)\n",
    "test_precision.append(0.7794261997113192)\n",
    "test_recall.append(0.6131)\n",
    "test_f1_score.append(0.5622667678899905)\n",
    "\n",
    "print(test_accuracy)\n",
    "print(test_precision)\n",
    "print(test_recall)\n",
    "print(test_f1_score)"
   ]
  },
  {
   "cell_type": "code",
   "execution_count": 33,
   "metadata": {
    "id": "F1eYBQyxcr9q"
   },
   "outputs": [],
   "source": []
  },
  {
   "cell_type": "markdown",
   "metadata": {
    "id": "vUBnGRExdEFp"
   },
   "source": [
    "10 Clients\n"
   ]
  },
  {
   "cell_type": "code",
   "execution_count": 34,
   "metadata": {
    "colab": {
     "base_uri": "https://localhost:8080/"
    },
    "id": "7RXU490ZdGD9",
    "outputId": "3855d4e8-d75c-487f-b59c-36d56a00433b"
   },
   "outputs": [
    {
     "name": "stdout",
     "output_type": "stream",
     "text": [
      "(6000, 28, 28, 1)\n",
      "(6000, 28, 28, 1)\n",
      "(6000, 28, 28, 1)\n",
      "(6000, 28, 28, 1)\n",
      "(6000, 28, 28, 1)\n",
      "(6000, 28, 28, 1)\n",
      "(6000, 28, 28, 1)\n",
      "(6000, 28, 28, 1)\n",
      "(6000, 28, 28, 1)\n",
      "(6000, 28, 28, 1)\n",
      "(6000,)\n",
      "(6000,)\n",
      "(6000,)\n",
      "(6000,)\n",
      "(6000,)\n",
      "(6000,)\n",
      "(6000,)\n",
      "(6000,)\n",
      "(6000,)\n",
      "(6000,)\n"
     ]
    }
   ],
   "source": [
    "Client_1 = (x_train[0:6000], y_train[0:6000])\n",
    "Client_2 = (x_train[6000:12000], y_train[6000:12000])\n",
    "Client_3 = (x_train[12000:18000], y_train[12000:18000])\n",
    "Client_4 = (x_train[18000:24000], y_train[18000:24000])\n",
    "Client_5 = (x_train[24000:30000], y_train[24000:30000])\n",
    "Client_6 = (x_train[30000:36000], y_train[30000:36000])\n",
    "Client_7 = (x_train[36000:42000], y_train[36000:42000])\n",
    "Client_8 = (x_train[42000:48000], y_train[42000:48000])\n",
    "Client_9 = (x_train[48000:54000], y_train[48000:54000])\n",
    "Client_10 = (x_train[54000:], y_train[54000:])\n",
    "\n",
    "print(Client_1[0].shape)\n",
    "print(Client_2[0].shape)\n",
    "print(Client_3[0].shape)\n",
    "print(Client_4[0].shape)\n",
    "print(Client_5[0].shape)\n",
    "print(Client_6[0].shape)\n",
    "print(Client_7[0].shape)\n",
    "print(Client_8[0].shape)\n",
    "print(Client_9[0].shape)\n",
    "print(Client_10[0].shape)\n",
    "\n",
    "print(Client_1[1].shape)\n",
    "print(Client_2[1].shape)\n",
    "print(Client_3[1].shape)\n",
    "print(Client_4[1].shape)\n",
    "print(Client_5[1].shape)\n",
    "print(Client_6[1].shape)\n",
    "print(Client_7[1].shape)\n",
    "print(Client_8[1].shape)\n",
    "print(Client_9[1].shape)\n",
    "print(Client_10[1].shape)\n",
    "\n",
    "# Create and train client models\n",
    "client1_model = create_client_model()\n",
    "client2_model = create_client_model()\n",
    "client3_model = create_client_model()\n",
    "client4_model = create_client_model()\n",
    "client5_model = create_client_model()\n",
    "client6_model = create_client_model()\n",
    "client7_model = create_client_model()\n",
    "client8_model = create_client_model()\n",
    "client9_model = create_client_model()\n",
    "client10_model = create_client_model()\n",
    "\n",
    "client1_model = train_client_model(client1_model, Client_1[0], Client_1[1])\n",
    "client2_model = train_client_model(client2_model, Client_2[0], Client_1[1])\n",
    "client3_model = train_client_model(client3_model, Client_3[0], Client_1[1])\n",
    "client4_model = train_client_model(client4_model, Client_4[0], Client_1[1])\n",
    "client5_model = train_client_model(client5_model, Client_5[0], Client_5[1])\n",
    "client6_model = train_client_model(client6_model, Client_6[0], Client_6[1])\n",
    "client7_model = train_client_model(client7_model, Client_7[0], Client_7[1])\n",
    "client8_model = train_client_model(client8_model, Client_8[0], Client_8[1])\n",
    "client9_model = train_client_model(client9_model, Client_9[0], Client_9[1])\n",
    "client10_model = train_client_model(client10_model, Client_10[0], Client_10[1])"
   ]
  },
  {
   "cell_type": "code",
   "execution_count": 35,
   "metadata": {
    "id": "00g-zGSHdLbt"
   },
   "outputs": [],
   "source": [
    "# Federated averaging\n",
    "def federated_average_weights(weights1, weights2, weights3, weights4, weights5,\n",
    "                              weights6, weights7, weights8, weights9, weights10):\n",
    "    new_weights = []\n",
    "    for w1, w2, w3, w4, w5, w6, w7, w8, w9, w10 in zip(weights1, weights2, weights3, weights4,\n",
    "                                                      weights5, weights6, weights7, weights8,\n",
    "                                                      weights9, weights10):\n",
    "        new_weights.append((w1 + w2 + w3 + w4 + w5 + w6 + w7 + w8 + w9 + w10) / 10)\n",
    "    return new_weights\n",
    "\n",
    "\n",
    "# Aggregate models\n",
    "aggregated_weights = federated_average_weights(client1_model.get_weights(),\n",
    "                                               client2_model.get_weights(),\n",
    "                                               client3_model.get_weights(),\n",
    "                                               client4_model.get_weights(),\n",
    "                                               client5_model.get_weights(),\n",
    "                                               client6_model.get_weights(),\n",
    "                                               client7_model.get_weights(),\n",
    "                                               client8_model.get_weights(),\n",
    "                                               client9_model.get_weights(),\n",
    "                                               client10_model.get_weights())\n",
    "\n",
    "# Create global model and set weights\n",
    "global_model = create_client_model()\n",
    "global_model.set_weights(aggregated_weights)"
   ]
  },
  {
   "cell_type": "code",
   "execution_count": 36,
   "metadata": {
    "colab": {
     "base_uri": "https://localhost:8080/"
    },
    "id": "q8sKKEXodQxH",
    "outputId": "ef3a9e0b-579d-428b-acab-b2633c6c8c86"
   },
   "outputs": [
    {
     "name": "stdout",
     "output_type": "stream",
     "text": [
      "313/313 - 1s - loss: 1.8296 - accuracy: 0.5911 - 672ms/epoch - 2ms/step\n",
      "Test accuracy: 0.5910999774932861\n",
      "313/313 [==============================] - 0s 1ms/step\n",
      "(10000, 10)\n",
      "Accuracy test set:  0.5911\n",
      "Precision test set:  0.7960061097945414\n",
      "Recall test set:  0.5911\n",
      "F-score test set:  0.5832376527415059\n",
      "              precision    recall  f1-score   support\n",
      "\n",
      "           0       0.98      0.51      0.67       980\n",
      "           1       1.00      0.33      0.49      1135\n",
      "           2       0.56      0.87      0.68      1032\n",
      "           3       0.82      0.37      0.51      1010\n",
      "           4       0.92      0.76      0.83       982\n",
      "           5       0.24      0.96      0.39       892\n",
      "           6       0.98      0.41      0.58       958\n",
      "           7       0.71      0.94      0.81      1028\n",
      "           8       0.84      0.02      0.03       974\n",
      "           9       0.83      0.78      0.80      1009\n",
      "\n",
      "    accuracy                           0.59     10000\n",
      "   macro avg       0.79      0.59      0.58     10000\n",
      "weighted avg       0.80      0.59      0.58     10000\n",
      "\n"
     ]
    }
   ],
   "source": [
    "# Evaluate global model\n",
    "test_loss, test_acc = global_model.evaluate(x_test, y_test, verbose=2)\n",
    "print('Test accuracy:', test_acc)\n",
    "\n",
    "predictions = global_model.predict(x_test)\n",
    "print(predictions.shape)\n",
    "\n",
    "predictions = list(predictions.argmax(axis=1))\n",
    "\n",
    "print(\"Accuracy test set: \", accuracy_score(y_test, predictions))\n",
    "\n",
    "print(\"Precision test set: \", precision_score(y_test, predictions, average = 'weighted' ))\n",
    "print(\"Recall test set: \", recall_score(y_test, predictions, average = 'weighted' ))\n",
    "print(\"F-score test set: \", f1_score(y_test, predictions, average = 'weighted' ))\n",
    "\n",
    "print(classification_report(y_test, predictions))"
   ]
  },
  {
   "cell_type": "code",
   "execution_count": 37,
   "metadata": {
    "colab": {
     "base_uri": "https://localhost:8080/"
    },
    "id": "KSfr5blBdSv9",
    "outputId": "b0767ebb-acc2-4055-dc54-f9a9ee64d0b7"
   },
   "outputs": [
    {
     "name": "stdout",
     "output_type": "stream",
     "text": [
      "[0.8652999997138977, 0.3984000086784363, 0.7756999731063843, 0.613099992275238, 0.5867999792098999]\n",
      "[0.8856584458216805, 0.36756040425356656, 0.8016136233957822, 0.7794261997113192, 0.7941117883669178]\n",
      "[0.8653, 0.3984, 0.7757, 0.6131, 0.5868]\n",
      "[0.8554286671379913, 0.36215371297003246, 0.7572420703248711, 0.5622667678899905, 0.5782532686256067]\n"
     ]
    }
   ],
   "source": [
    "test_accuracy.append(0.5867999792098999)\n",
    "test_precision.append(0.7941117883669178)\n",
    "test_recall.append(0.5868)\n",
    "test_f1_score.append(0.5782532686256067)\n",
    "\n",
    "print(test_accuracy)\n",
    "print(test_precision)\n",
    "print(test_recall)\n",
    "print(test_f1_score)"
   ]
  },
  {
   "cell_type": "markdown",
   "metadata": {
    "id": "aeKbFr6UHMPx"
   },
   "source": [
    "# Lab Logbook requirement: Document the following in lablogbook\n",
    "\n",
    "1. Plot the model's performance for the number of clients ranging from 2, 4, 6, 8, and 10.\n",
    "\n",
    "2. For any specified number of clients, compare the model's performance when one (or more) dishonest clients are present. Plot the performance metrics before and after the presence of dishonest clients.\n",
    "\n",
    "\n"
   ]
  },
  {
   "cell_type": "markdown",
   "metadata": {
    "id": "YmEcD2VUdcDA"
   },
   "source": [
    "Plot the model's performance for the number of clients ranging from 2, 4, 6, 8, and 10.\n"
   ]
  },
  {
   "cell_type": "code",
   "execution_count": 38,
   "metadata": {
    "id": "mdGMp6TDboeS"
   },
   "outputs": [],
   "source": [
    "import pandas as pd"
   ]
  },
  {
   "cell_type": "code",
   "execution_count": 39,
   "metadata": {
    "colab": {
     "base_uri": "https://localhost:8080/",
     "height": 244
    },
    "id": "U8x-pkZBbGxt",
    "outputId": "a95d396b-752f-483c-8270-f4bf7b6aebf9"
   },
   "outputs": [
    {
     "name": "stdout",
     "output_type": "stream",
     "text": [
      "[[0.8652999997138977, 0.3984000086784363, 0.7756999731063843, 0.613099992275238, 0.5867999792098999], [0.8856584458216805, 0.36756040425356656, 0.8016136233957822, 0.7794261997113192, 0.7941117883669178], [0.8653, 0.3984, 0.7757, 0.6131, 0.5868], [0.8554286671379913, 0.36215371297003246, 0.7572420703248711, 0.5622667678899905, 0.5782532686256067]]\n"
     ]
    },
    {
     "data": {
      "application/vnd.google.colaboratory.intrinsic+json": {
       "summary": "{\n  \"name\": \"ErrorMetrics_pd\",\n  \"rows\": 5,\n  \"fields\": [\n    {\n      \"column\": \"Accuracy\",\n      \"properties\": {\n        \"dtype\": \"number\",\n        \"std\": 0.18082455844373577,\n        \"min\": 0.3984000086784363,\n        \"max\": 0.8652999997138977,\n        \"num_unique_values\": 5,\n        \"samples\": [\n          0.3984000086784363,\n          0.5867999792098999,\n          0.7756999731063843\n        ],\n        \"semantic_type\": \"\",\n        \"description\": \"\"\n      }\n    },\n    {\n      \"column\": \"Precision\",\n      \"properties\": {\n        \"dtype\": \"number\",\n        \"std\": 0.204438393296808,\n        \"min\": 0.36756040425356656,\n        \"max\": 0.8856584458216805,\n        \"num_unique_values\": 5,\n        \"samples\": [\n          0.36756040425356656,\n          0.7941117883669178,\n          0.8016136233957822\n        ],\n        \"semantic_type\": \"\",\n        \"description\": \"\"\n      }\n    },\n    {\n      \"column\": \"Recall\",\n      \"properties\": {\n        \"dtype\": \"number\",\n        \"std\": 0.1808245641498964,\n        \"min\": 0.3984,\n        \"max\": 0.8653,\n        \"num_unique_values\": 5,\n        \"samples\": [\n          0.3984,\n          0.5868,\n          0.7757\n        ],\n        \"semantic_type\": \"\",\n        \"description\": \"\"\n      }\n    },\n    {\n      \"column\": \"F1_Score\",\n      \"properties\": {\n        \"dtype\": \"number\",\n        \"std\": 0.19090283911386696,\n        \"min\": 0.36215371297003246,\n        \"max\": 0.8554286671379913,\n        \"num_unique_values\": 5,\n        \"samples\": [\n          0.36215371297003246,\n          0.5782532686256067,\n          0.7572420703248711\n        ],\n        \"semantic_type\": \"\",\n        \"description\": \"\"\n      }\n    }\n  ]\n}",
       "type": "dataframe",
       "variable_name": "ErrorMetrics_pd"
      },
      "text/html": [
       "\n",
       "  <div id=\"df-4a723979-76e2-432c-beb7-86f4477429d4\" class=\"colab-df-container\">\n",
       "    <div>\n",
       "<style scoped>\n",
       "    .dataframe tbody tr th:only-of-type {\n",
       "        vertical-align: middle;\n",
       "    }\n",
       "\n",
       "    .dataframe tbody tr th {\n",
       "        vertical-align: top;\n",
       "    }\n",
       "\n",
       "    .dataframe thead th {\n",
       "        text-align: right;\n",
       "    }\n",
       "</style>\n",
       "<table border=\"1\" class=\"dataframe\">\n",
       "  <thead>\n",
       "    <tr style=\"text-align: right;\">\n",
       "      <th></th>\n",
       "      <th>Accuracy</th>\n",
       "      <th>Precision</th>\n",
       "      <th>Recall</th>\n",
       "      <th>F1_Score</th>\n",
       "    </tr>\n",
       "  </thead>\n",
       "  <tbody>\n",
       "    <tr>\n",
       "      <th>2</th>\n",
       "      <td>0.8653</td>\n",
       "      <td>0.885658</td>\n",
       "      <td>0.8653</td>\n",
       "      <td>0.855429</td>\n",
       "    </tr>\n",
       "    <tr>\n",
       "      <th>4</th>\n",
       "      <td>0.3984</td>\n",
       "      <td>0.367560</td>\n",
       "      <td>0.3984</td>\n",
       "      <td>0.362154</td>\n",
       "    </tr>\n",
       "    <tr>\n",
       "      <th>6</th>\n",
       "      <td>0.7757</td>\n",
       "      <td>0.801614</td>\n",
       "      <td>0.7757</td>\n",
       "      <td>0.757242</td>\n",
       "    </tr>\n",
       "    <tr>\n",
       "      <th>8</th>\n",
       "      <td>0.6131</td>\n",
       "      <td>0.779426</td>\n",
       "      <td>0.6131</td>\n",
       "      <td>0.562267</td>\n",
       "    </tr>\n",
       "    <tr>\n",
       "      <th>10</th>\n",
       "      <td>0.5868</td>\n",
       "      <td>0.794112</td>\n",
       "      <td>0.5868</td>\n",
       "      <td>0.578253</td>\n",
       "    </tr>\n",
       "  </tbody>\n",
       "</table>\n",
       "</div>\n",
       "    <div class=\"colab-df-buttons\">\n",
       "\n",
       "  <div class=\"colab-df-container\">\n",
       "    <button class=\"colab-df-convert\" onclick=\"convertToInteractive('df-4a723979-76e2-432c-beb7-86f4477429d4')\"\n",
       "            title=\"Convert this dataframe to an interactive table.\"\n",
       "            style=\"display:none;\">\n",
       "\n",
       "  <svg xmlns=\"http://www.w3.org/2000/svg\" height=\"24px\" viewBox=\"0 -960 960 960\">\n",
       "    <path d=\"M120-120v-720h720v720H120Zm60-500h600v-160H180v160Zm220 220h160v-160H400v160Zm0 220h160v-160H400v160ZM180-400h160v-160H180v160Zm440 0h160v-160H620v160ZM180-180h160v-160H180v160Zm440 0h160v-160H620v160Z\"/>\n",
       "  </svg>\n",
       "    </button>\n",
       "\n",
       "  <style>\n",
       "    .colab-df-container {\n",
       "      display:flex;\n",
       "      gap: 12px;\n",
       "    }\n",
       "\n",
       "    .colab-df-convert {\n",
       "      background-color: #E8F0FE;\n",
       "      border: none;\n",
       "      border-radius: 50%;\n",
       "      cursor: pointer;\n",
       "      display: none;\n",
       "      fill: #1967D2;\n",
       "      height: 32px;\n",
       "      padding: 0 0 0 0;\n",
       "      width: 32px;\n",
       "    }\n",
       "\n",
       "    .colab-df-convert:hover {\n",
       "      background-color: #E2EBFA;\n",
       "      box-shadow: 0px 1px 2px rgba(60, 64, 67, 0.3), 0px 1px 3px 1px rgba(60, 64, 67, 0.15);\n",
       "      fill: #174EA6;\n",
       "    }\n",
       "\n",
       "    .colab-df-buttons div {\n",
       "      margin-bottom: 4px;\n",
       "    }\n",
       "\n",
       "    [theme=dark] .colab-df-convert {\n",
       "      background-color: #3B4455;\n",
       "      fill: #D2E3FC;\n",
       "    }\n",
       "\n",
       "    [theme=dark] .colab-df-convert:hover {\n",
       "      background-color: #434B5C;\n",
       "      box-shadow: 0px 1px 3px 1px rgba(0, 0, 0, 0.15);\n",
       "      filter: drop-shadow(0px 1px 2px rgba(0, 0, 0, 0.3));\n",
       "      fill: #FFFFFF;\n",
       "    }\n",
       "  </style>\n",
       "\n",
       "    <script>\n",
       "      const buttonEl =\n",
       "        document.querySelector('#df-4a723979-76e2-432c-beb7-86f4477429d4 button.colab-df-convert');\n",
       "      buttonEl.style.display =\n",
       "        google.colab.kernel.accessAllowed ? 'block' : 'none';\n",
       "\n",
       "      async function convertToInteractive(key) {\n",
       "        const element = document.querySelector('#df-4a723979-76e2-432c-beb7-86f4477429d4');\n",
       "        const dataTable =\n",
       "          await google.colab.kernel.invokeFunction('convertToInteractive',\n",
       "                                                    [key], {});\n",
       "        if (!dataTable) return;\n",
       "\n",
       "        const docLinkHtml = 'Like what you see? Visit the ' +\n",
       "          '<a target=\"_blank\" href=https://colab.research.google.com/notebooks/data_table.ipynb>data table notebook</a>'\n",
       "          + ' to learn more about interactive tables.';\n",
       "        element.innerHTML = '';\n",
       "        dataTable['output_type'] = 'display_data';\n",
       "        await google.colab.output.renderOutput(dataTable, element);\n",
       "        const docLink = document.createElement('div');\n",
       "        docLink.innerHTML = docLinkHtml;\n",
       "        element.appendChild(docLink);\n",
       "      }\n",
       "    </script>\n",
       "  </div>\n",
       "\n",
       "\n",
       "<div id=\"df-3bae973f-aa5c-4379-8191-e14a4c6cdbe2\">\n",
       "  <button class=\"colab-df-quickchart\" onclick=\"quickchart('df-3bae973f-aa5c-4379-8191-e14a4c6cdbe2')\"\n",
       "            title=\"Suggest charts\"\n",
       "            style=\"display:none;\">\n",
       "\n",
       "<svg xmlns=\"http://www.w3.org/2000/svg\" height=\"24px\"viewBox=\"0 0 24 24\"\n",
       "     width=\"24px\">\n",
       "    <g>\n",
       "        <path d=\"M19 3H5c-1.1 0-2 .9-2 2v14c0 1.1.9 2 2 2h14c1.1 0 2-.9 2-2V5c0-1.1-.9-2-2-2zM9 17H7v-7h2v7zm4 0h-2V7h2v10zm4 0h-2v-4h2v4z\"/>\n",
       "    </g>\n",
       "</svg>\n",
       "  </button>\n",
       "\n",
       "<style>\n",
       "  .colab-df-quickchart {\n",
       "      --bg-color: #E8F0FE;\n",
       "      --fill-color: #1967D2;\n",
       "      --hover-bg-color: #E2EBFA;\n",
       "      --hover-fill-color: #174EA6;\n",
       "      --disabled-fill-color: #AAA;\n",
       "      --disabled-bg-color: #DDD;\n",
       "  }\n",
       "\n",
       "  [theme=dark] .colab-df-quickchart {\n",
       "      --bg-color: #3B4455;\n",
       "      --fill-color: #D2E3FC;\n",
       "      --hover-bg-color: #434B5C;\n",
       "      --hover-fill-color: #FFFFFF;\n",
       "      --disabled-bg-color: #3B4455;\n",
       "      --disabled-fill-color: #666;\n",
       "  }\n",
       "\n",
       "  .colab-df-quickchart {\n",
       "    background-color: var(--bg-color);\n",
       "    border: none;\n",
       "    border-radius: 50%;\n",
       "    cursor: pointer;\n",
       "    display: none;\n",
       "    fill: var(--fill-color);\n",
       "    height: 32px;\n",
       "    padding: 0;\n",
       "    width: 32px;\n",
       "  }\n",
       "\n",
       "  .colab-df-quickchart:hover {\n",
       "    background-color: var(--hover-bg-color);\n",
       "    box-shadow: 0 1px 2px rgba(60, 64, 67, 0.3), 0 1px 3px 1px rgba(60, 64, 67, 0.15);\n",
       "    fill: var(--button-hover-fill-color);\n",
       "  }\n",
       "\n",
       "  .colab-df-quickchart-complete:disabled,\n",
       "  .colab-df-quickchart-complete:disabled:hover {\n",
       "    background-color: var(--disabled-bg-color);\n",
       "    fill: var(--disabled-fill-color);\n",
       "    box-shadow: none;\n",
       "  }\n",
       "\n",
       "  .colab-df-spinner {\n",
       "    border: 2px solid var(--fill-color);\n",
       "    border-color: transparent;\n",
       "    border-bottom-color: var(--fill-color);\n",
       "    animation:\n",
       "      spin 1s steps(1) infinite;\n",
       "  }\n",
       "\n",
       "  @keyframes spin {\n",
       "    0% {\n",
       "      border-color: transparent;\n",
       "      border-bottom-color: var(--fill-color);\n",
       "      border-left-color: var(--fill-color);\n",
       "    }\n",
       "    20% {\n",
       "      border-color: transparent;\n",
       "      border-left-color: var(--fill-color);\n",
       "      border-top-color: var(--fill-color);\n",
       "    }\n",
       "    30% {\n",
       "      border-color: transparent;\n",
       "      border-left-color: var(--fill-color);\n",
       "      border-top-color: var(--fill-color);\n",
       "      border-right-color: var(--fill-color);\n",
       "    }\n",
       "    40% {\n",
       "      border-color: transparent;\n",
       "      border-right-color: var(--fill-color);\n",
       "      border-top-color: var(--fill-color);\n",
       "    }\n",
       "    60% {\n",
       "      border-color: transparent;\n",
       "      border-right-color: var(--fill-color);\n",
       "    }\n",
       "    80% {\n",
       "      border-color: transparent;\n",
       "      border-right-color: var(--fill-color);\n",
       "      border-bottom-color: var(--fill-color);\n",
       "    }\n",
       "    90% {\n",
       "      border-color: transparent;\n",
       "      border-bottom-color: var(--fill-color);\n",
       "    }\n",
       "  }\n",
       "</style>\n",
       "\n",
       "  <script>\n",
       "    async function quickchart(key) {\n",
       "      const quickchartButtonEl =\n",
       "        document.querySelector('#' + key + ' button');\n",
       "      quickchartButtonEl.disabled = true;  // To prevent multiple clicks.\n",
       "      quickchartButtonEl.classList.add('colab-df-spinner');\n",
       "      try {\n",
       "        const charts = await google.colab.kernel.invokeFunction(\n",
       "            'suggestCharts', [key], {});\n",
       "      } catch (error) {\n",
       "        console.error('Error during call to suggestCharts:', error);\n",
       "      }\n",
       "      quickchartButtonEl.classList.remove('colab-df-spinner');\n",
       "      quickchartButtonEl.classList.add('colab-df-quickchart-complete');\n",
       "    }\n",
       "    (() => {\n",
       "      let quickchartButtonEl =\n",
       "        document.querySelector('#df-3bae973f-aa5c-4379-8191-e14a4c6cdbe2 button');\n",
       "      quickchartButtonEl.style.display =\n",
       "        google.colab.kernel.accessAllowed ? 'block' : 'none';\n",
       "    })();\n",
       "  </script>\n",
       "</div>\n",
       "    </div>\n",
       "  </div>\n"
      ],
      "text/plain": [
       "    Accuracy  Precision  Recall  F1_Score\n",
       "2     0.8653   0.885658  0.8653  0.855429\n",
       "4     0.3984   0.367560  0.3984  0.362154\n",
       "6     0.7757   0.801614  0.7757  0.757242\n",
       "8     0.6131   0.779426  0.6131  0.562267\n",
       "10    0.5868   0.794112  0.5868  0.578253"
      ]
     },
     "execution_count": 39,
     "metadata": {},
     "output_type": "execute_result"
    }
   ],
   "source": [
    "ErrorMetrics = []\n",
    "ErrorMetrics.append(test_accuracy)\n",
    "ErrorMetrics.append(test_precision)\n",
    "ErrorMetrics.append(test_recall)\n",
    "ErrorMetrics.append(test_f1_score)\n",
    "\n",
    "print(ErrorMetrics)\n",
    "\n",
    "ErrorMetrics_pd = pd.DataFrame(ErrorMetrics)\n",
    "ErrorMetrics_pd.columns = [2,4,6,8,10]\n",
    "ErrorMetrics_pd = ErrorMetrics_pd.T\n",
    "ErrorMetrics_pd.columns = ['Accuracy','Precision','Recall','F1_Score']\n",
    "ErrorMetrics_pd"
   ]
  },
  {
   "cell_type": "code",
   "execution_count": 40,
   "metadata": {
    "colab": {
     "base_uri": "https://localhost:8080/",
     "height": 450
    },
    "id": "T9hWTp3DaYZu",
    "outputId": "d02ff1df-9e29-4262-f601-2a53cda2576e"
   },
   "outputs": [
    {
     "data": {
      "text/plain": [
       "<Axes: >"
      ]
     },
     "execution_count": 40,
     "metadata": {},
     "output_type": "execute_result"
    },
    {
     "data": {
      "image/png": "[encoded data removed]",
      "text/plain": [
       "<Figure size 640x480 with 1 Axes>"
      ]
     },
     "metadata": {},
     "output_type": "display_data"
    }
   ],
   "source": [
    "ErrorMetrics_pd.plot.bar(width=0.7, alpha=0.7)"
   ]
  },
  {
   "cell_type": "code",
   "execution_count": 40,
   "metadata": {
    "id": "ReLvac2bZ46D"
   },
   "outputs": [],
   "source": []
  },
  {
   "cell_type": "markdown",
   "metadata": {
    "id": "1OFHjhsRff5I"
   },
   "source": [
    "For any specified number of clients, compare the model's performance when one (or more) dishonest clients are present. Plot the performance metrics before and after the presence of dishonest clients.\n"
   ]
  },
  {
   "cell_type": "code",
   "execution_count": 41,
   "metadata": {
    "id": "23QnI2-RfhZQ"
   },
   "outputs": [],
   "source": [
    "#Take 4 Clients, one of them is assumed dishonest\n",
    "\n",
    "# Split data into 4 clients\n",
    "# Create and train client models\n",
    "Client_1 = (x_train[0:15000], y_train[0:15000])\n",
    "Client_2 = (x_train[15000:30000], y_train[15000:30000])\n",
    "Client_3 = (x_train[30000:45000], y_train[30000:45000])\n",
    "Client_4 = (x_train[45000:], y_train[45000:])"
   ]
  },
  {
   "cell_type": "code",
   "execution_count": 42,
   "metadata": {
    "colab": {
     "base_uri": "https://localhost:8080/"
    },
    "id": "WxlEohpqgcLQ",
    "outputId": "5e41a00a-f1ef-4266-c04d-5b0a1308bd68"
   },
   "outputs": [
    {
     "data": {
      "text/plain": [
       "15000"
      ]
     },
     "execution_count": 42,
     "metadata": {},
     "output_type": "execute_result"
    }
   ],
   "source": [
    "Client_2[1].size"
   ]
  },
  {
   "cell_type": "code",
   "execution_count": 43,
   "metadata": {
    "colab": {
     "base_uri": "https://localhost:8080/"
    },
    "id": "CEYch69Ugf7u",
    "outputId": "57eb8b8d-3362-4f04-f21c-003ac98fd882"
   },
   "outputs": [
    {
     "data": {
      "text/plain": [
       "array([5, 1, 1, ..., 6, 7, 1], dtype=uint8)"
      ]
     },
     "execution_count": 43,
     "metadata": {},
     "output_type": "execute_result"
    }
   ],
   "source": [
    "Client_2[1]"
   ]
  },
  {
   "cell_type": "code",
   "execution_count": 44,
   "metadata": {
    "id": "zZ9sLKi5IiDN"
   },
   "outputs": [],
   "source": [
    "### Client_2 is assumed dishonest and changing the training data. Some labels are set as 4\n",
    "### Change the first 2000 labels\n",
    "\n",
    "Client_2[1][:2000] = 3"
   ]
  },
  {
   "cell_type": "code",
   "execution_count": 45,
   "metadata": {
    "colab": {
     "base_uri": "https://localhost:8080/"
    },
    "id": "Q9_dU3Tyglxp",
    "outputId": "cfd2f37e-80a6-4f97-e9df-b4d15a2adec1"
   },
   "outputs": [
    {
     "name": "stdout",
     "output_type": "stream",
     "text": [
      "(15000, 28, 28, 1)\n",
      "(15000, 28, 28, 1)\n",
      "(15000, 28, 28, 1)\n",
      "(15000, 28, 28, 1)\n",
      "(15000,)\n",
      "(15000,)\n",
      "(15000,)\n",
      "(15000,)\n"
     ]
    }
   ],
   "source": [
    "print(Client_1[0].shape)\n",
    "print(Client_2[0].shape)\n",
    "print(Client_3[0].shape)\n",
    "print(Client_4[0].shape)\n",
    "\n",
    "print(Client_1[1].shape)\n",
    "print(Client_2[1].shape)\n",
    "print(Client_3[1].shape)\n",
    "print(Client_4[1].shape)\n"
   ]
  },
  {
   "cell_type": "code",
   "execution_count": 46,
   "metadata": {
    "id": "E-3oQcwUgqni"
   },
   "outputs": [],
   "source": [
    "# Create and train client models\n",
    "client1_model = create_client_model()\n",
    "client2_model = create_client_model()\n",
    "client3_model = create_client_model()\n",
    "client4_model = create_client_model()\n",
    "\n",
    "client1_model = train_client_model(client1_model, Client_1[0], Client_1[1])\n",
    "client2_model = train_client_model(client2_model, Client_2[0], Client_1[1])\n",
    "client3_model = train_client_model(client3_model, Client_3[0], Client_1[1])\n",
    "client4_model = train_client_model(client4_model, Client_4[0], Client_1[1])"
   ]
  },
  {
   "cell_type": "code",
   "execution_count": 47,
   "metadata": {
    "id": "Y05a5ctCguyw"
   },
   "outputs": [],
   "source": [
    "# Federated averaging\n",
    "def federated_average_weights(weights1, weights2, weights3, weights4):\n",
    "    new_weights = []\n",
    "    for w1, w2, w3, w4 in zip(weights1, weights2, weights3, weights4):\n",
    "        new_weights.append((w1 + w2 + w3 + w4) / 4)\n",
    "    return new_weights\n",
    "\n",
    "\n",
    "# Aggregate models\n",
    "aggregated_weights = federated_average_weights(client1_model.get_weights(),\n",
    "                                               client2_model.get_weights(),\n",
    "                                               client3_model.get_weights(),\n",
    "                                               client4_model.get_weights())\n",
    "\n",
    "# Create global model and set weights\n",
    "global_model = create_client_model()\n",
    "global_model.set_weights(aggregated_weights)"
   ]
  },
  {
   "cell_type": "code",
   "execution_count": 48,
   "metadata": {
    "colab": {
     "base_uri": "https://localhost:8080/"
    },
    "id": "KXcr6DcsgxjK",
    "outputId": "a85e1b24-3e37-4d53-fd2e-4a4259dece6a"
   },
   "outputs": [
    {
     "name": "stdout",
     "output_type": "stream",
     "text": [
      "313/313 - 1s - loss: 2.2395 - accuracy: 0.3287 - 677ms/epoch - 2ms/step\n",
      "Test accuracy: 0.3287000060081482\n",
      "313/313 [==============================] - 1s 1ms/step\n",
      "(10000, 10)\n",
      "Accuracy test set:  0.3287\n",
      "Precision test set:  0.34375907027587305\n",
      "Recall test set:  0.3287\n",
      "F-score test set:  0.3086619721089325\n",
      "              precision    recall  f1-score   support\n",
      "\n",
      "           0       0.10      0.05      0.07       980\n",
      "           1       0.36      0.30      0.33      1135\n",
      "           2       0.48      0.33      0.39      1032\n",
      "           3       0.21      0.25      0.23      1010\n",
      "           4       0.21      0.08      0.12       982\n",
      "           5       0.75      0.20      0.32       892\n",
      "           6       0.36      0.54      0.43       958\n",
      "           7       0.49      0.74      0.59      1028\n",
      "           8       0.27      0.48      0.34       974\n",
      "           9       0.24      0.29      0.26      1009\n",
      "\n",
      "    accuracy                           0.33     10000\n",
      "   macro avg       0.35      0.33      0.31     10000\n",
      "weighted avg       0.34      0.33      0.31     10000\n",
      "\n"
     ]
    }
   ],
   "source": [
    "# Evaluate global model\n",
    "test_loss, test_acc = global_model.evaluate(x_test, y_test, verbose=2)\n",
    "print('Test accuracy:', test_acc)\n",
    "\n",
    "predictions = global_model.predict(x_test)\n",
    "print(predictions.shape)\n",
    "\n",
    "predictions = list(predictions.argmax(axis=1))\n",
    "\n",
    "print(\"Accuracy test set: \", accuracy_score(y_test, predictions))\n",
    "\n",
    "print(\"Precision test set: \", precision_score(y_test, predictions, average = 'weighted' ))\n",
    "print(\"Recall test set: \", recall_score(y_test, predictions, average = 'weighted' ))\n",
    "print(\"F-score test set: \", f1_score(y_test, predictions, average = 'weighted' ))\n",
    "\n",
    "print(classification_report(y_test, predictions))"
   ]
  },
  {
   "cell_type": "code",
   "execution_count": 49,
   "metadata": {
    "id": "_Vd2s9Pvg0LU"
   },
   "outputs": [],
   "source": [
    "test_accuracy_dishonest  = []\n",
    "test_precision_dishonest = []\n",
    "test_recall_dishonest    = []\n",
    "test_f1_score_dishonest  = []"
   ]
  },
  {
   "cell_type": "code",
   "execution_count": 50,
   "metadata": {
    "colab": {
     "base_uri": "https://localhost:8080/"
    },
    "id": "gCZ0hUQQg2uo",
    "outputId": "e55d60de-1872-48e0-abbf-14409cb2d6bf"
   },
   "outputs": [
    {
     "name": "stdout",
     "output_type": "stream",
     "text": [
      "[0.3984000086784363, 0.10090000182390213]\n",
      "[0.36756040425356656, 0.29096004180672663]\n",
      "[0.3984, 0.1009]\n",
      "[0.36215371297003246, 0.03971524584975824]\n"
     ]
    }
   ],
   "source": [
    "test_accuracy_dishonest.append(test_accuracy[1])\n",
    "test_precision_dishonest.append(test_precision[1])\n",
    "test_recall_dishonest.append(test_recall[1])\n",
    "test_f1_score_dishonest.append(test_f1_score[1])\n",
    "\n",
    "test_accuracy_dishonest.append(0.10090000182390213)\n",
    "test_precision_dishonest.append(0.29096004180672663)\n",
    "test_recall_dishonest.append(0.1009)\n",
    "test_f1_score_dishonest.append(0.03971524584975824)\n",
    "\n",
    "print(test_accuracy_dishonest)\n",
    "print(test_precision_dishonest)\n",
    "print(test_recall_dishonest)\n",
    "print(test_f1_score_dishonest)"
   ]
  },
  {
   "cell_type": "code",
   "execution_count": 51,
   "metadata": {
    "colab": {
     "base_uri": "https://localhost:8080/",
     "height": 129
    },
    "id": "LYCvQEHig5E5",
    "outputId": "46d1a179-ede2-4751-8f0b-a26e206dd875"
   },
   "outputs": [
    {
     "name": "stdout",
     "output_type": "stream",
     "text": [
      "[[0.3984000086784363, 0.10090000182390213], [0.36756040425356656, 0.29096004180672663], [0.3984, 0.1009], [0.36215371297003246, 0.03971524584975824]]\n"
     ]
    },
    {
     "data": {
      "application/vnd.google.colaboratory.intrinsic+json": {
       "summary": "{\n  \"name\": \"ErrorMetrics_pd\",\n  \"rows\": 2,\n  \"fields\": [\n    {\n      \"column\": \"Accuracy\",\n      \"properties\": {\n        \"dtype\": \"number\",\n        \"std\": 0.21036427224988546,\n        \"min\": 0.10090000182390213,\n        \"max\": 0.3984000086784363,\n        \"num_unique_values\": 2,\n        \"samples\": [\n          0.10090000182390213,\n          0.3984000086784363\n        ],\n        \"semantic_type\": \"\",\n        \"description\": \"\"\n      }\n    },\n    {\n      \"column\": \"Precision\",\n      \"properties\": {\n        \"dtype\": \"number\",\n        \"std\": 0.054164635727507876,\n        \"min\": 0.29096004180672663,\n        \"max\": 0.36756040425356656,\n        \"num_unique_values\": 2,\n        \"samples\": [\n          0.29096004180672663,\n          0.36756040425356656\n        ],\n        \"semantic_type\": \"\",\n        \"description\": \"\"\n      }\n    },\n    {\n      \"column\": \"Recall\",\n      \"properties\": {\n        \"dtype\": \"number\",\n        \"std\": 0.21036426740299788,\n        \"min\": 0.1009,\n        \"max\": 0.3984,\n        \"num_unique_values\": 2,\n        \"samples\": [\n          0.1009,\n          0.3984\n        ],\n        \"semantic_type\": \"\",\n        \"description\": \"\"\n      }\n    },\n    {\n      \"column\": \"F1_Score\",\n      \"properties\": {\n        \"dtype\": \"number\",\n        \"std\": 0.22799842661614153,\n        \"min\": 0.03971524584975824,\n        \"max\": 0.36215371297003246,\n        \"num_unique_values\": 2,\n        \"samples\": [\n          0.03971524584975824,\n          0.36215371297003246\n        ],\n        \"semantic_type\": \"\",\n        \"description\": \"\"\n      }\n    }\n  ]\n}",
       "type": "dataframe",
       "variable_name": "ErrorMetrics_pd"
      },
      "text/html": [
       "\n",
       "  <div id=\"df-51834efb-34ca-46ab-a739-fcb5918e5b2c\" class=\"colab-df-container\">\n",
       "    <div>\n",
       "<style scoped>\n",
       "    .dataframe tbody tr th:only-of-type {\n",
       "        vertical-align: middle;\n",
       "    }\n",
       "\n",
       "    .dataframe tbody tr th {\n",
       "        vertical-align: top;\n",
       "    }\n",
       "\n",
       "    .dataframe thead th {\n",
       "        text-align: right;\n",
       "    }\n",
       "</style>\n",
       "<table border=\"1\" class=\"dataframe\">\n",
       "  <thead>\n",
       "    <tr style=\"text-align: right;\">\n",
       "      <th></th>\n",
       "      <th>Accuracy</th>\n",
       "      <th>Precision</th>\n",
       "      <th>Recall</th>\n",
       "      <th>F1_Score</th>\n",
       "    </tr>\n",
       "  </thead>\n",
       "  <tbody>\n",
       "    <tr>\n",
       "      <th>All are honest</th>\n",
       "      <td>0.3984</td>\n",
       "      <td>0.36756</td>\n",
       "      <td>0.3984</td>\n",
       "      <td>0.362154</td>\n",
       "    </tr>\n",
       "    <tr>\n",
       "      <th>#2 is dishonest</th>\n",
       "      <td>0.1009</td>\n",
       "      <td>0.29096</td>\n",
       "      <td>0.1009</td>\n",
       "      <td>0.039715</td>\n",
       "    </tr>\n",
       "  </tbody>\n",
       "</table>\n",
       "</div>\n",
       "    <div class=\"colab-df-buttons\">\n",
       "\n",
       "  <div class=\"colab-df-container\">\n",
       "    <button class=\"colab-df-convert\" onclick=\"convertToInteractive('df-51834efb-34ca-46ab-a739-fcb5918e5b2c')\"\n",
       "            title=\"Convert this dataframe to an interactive table.\"\n",
       "            style=\"display:none;\">\n",
       "\n",
       "  <svg xmlns=\"http://www.w3.org/2000/svg\" height=\"24px\" viewBox=\"0 -960 960 960\">\n",
       "    <path d=\"M120-120v-720h720v720H120Zm60-500h600v-160H180v160Zm220 220h160v-160H400v160Zm0 220h160v-160H400v160ZM180-400h160v-160H180v160Zm440 0h160v-160H620v160ZM180-180h160v-160H180v160Zm440 0h160v-160H620v160Z\"/>\n",
       "  </svg>\n",
       "    </button>\n",
       "\n",
       "  <style>\n",
       "    .colab-df-container {\n",
       "      display:flex;\n",
       "      gap: 12px;\n",
       "    }\n",
       "\n",
       "    .colab-df-convert {\n",
       "      background-color: #E8F0FE;\n",
       "      border: none;\n",
       "      border-radius: 50%;\n",
       "      cursor: pointer;\n",
       "      display: none;\n",
       "      fill: #1967D2;\n",
       "      height: 32px;\n",
       "      padding: 0 0 0 0;\n",
       "      width: 32px;\n",
       "    }\n",
       "\n",
       "    .colab-df-convert:hover {\n",
       "      background-color: #E2EBFA;\n",
       "      box-shadow: 0px 1px 2px rgba(60, 64, 67, 0.3), 0px 1px 3px 1px rgba(60, 64, 67, 0.15);\n",
       "      fill: #174EA6;\n",
       "    }\n",
       "\n",
       "    .colab-df-buttons div {\n",
       "      margin-bottom: 4px;\n",
       "    }\n",
       "\n",
       "    [theme=dark] .colab-df-convert {\n",
       "      background-color: #3B4455;\n",
       "      fill: #D2E3FC;\n",
       "    }\n",
       "\n",
       "    [theme=dark] .colab-df-convert:hover {\n",
       "      background-color: #434B5C;\n",
       "      box-shadow: 0px 1px 3px 1px rgba(0, 0, 0, 0.15);\n",
       "      filter: drop-shadow(0px 1px 2px rgba(0, 0, 0, 0.3));\n",
       "      fill: #FFFFFF;\n",
       "    }\n",
       "  </style>\n",
       "\n",
       "    <script>\n",
       "      const buttonEl =\n",
       "        document.querySelector('#df-51834efb-34ca-46ab-a739-fcb5918e5b2c button.colab-df-convert');\n",
       "      buttonEl.style.display =\n",
       "        google.colab.kernel.accessAllowed ? 'block' : 'none';\n",
       "\n",
       "      async function convertToInteractive(key) {\n",
       "        const element = document.querySelector('#df-51834efb-34ca-46ab-a739-fcb5918e5b2c');\n",
       "        const dataTable =\n",
       "          await google.colab.kernel.invokeFunction('convertToInteractive',\n",
       "                                                    [key], {});\n",
       "        if (!dataTable) return;\n",
       "\n",
       "        const docLinkHtml = 'Like what you see? Visit the ' +\n",
       "          '<a target=\"_blank\" href=https://colab.research.google.com/notebooks/data_table.ipynb>data table notebook</a>'\n",
       "          + ' to learn more about interactive tables.';\n",
       "        element.innerHTML = '';\n",
       "        dataTable['output_type'] = 'display_data';\n",
       "        await google.colab.output.renderOutput(dataTable, element);\n",
       "        const docLink = document.createElement('div');\n",
       "        docLink.innerHTML = docLinkHtml;\n",
       "        element.appendChild(docLink);\n",
       "      }\n",
       "    </script>\n",
       "  </div>\n",
       "\n",
       "\n",
       "<div id=\"df-edb90c05-ff71-4abc-8eb2-eebd2f8559c3\">\n",
       "  <button class=\"colab-df-quickchart\" onclick=\"quickchart('df-edb90c05-ff71-4abc-8eb2-eebd2f8559c3')\"\n",
       "            title=\"Suggest charts\"\n",
       "            style=\"display:none;\">\n",
       "\n",
       "<svg xmlns=\"http://www.w3.org/2000/svg\" height=\"24px\"viewBox=\"0 0 24 24\"\n",
       "     width=\"24px\">\n",
       "    <g>\n",
       "        <path d=\"M19 3H5c-1.1 0-2 .9-2 2v14c0 1.1.9 2 2 2h14c1.1 0 2-.9 2-2V5c0-1.1-.9-2-2-2zM9 17H7v-7h2v7zm4 0h-2V7h2v10zm4 0h-2v-4h2v4z\"/>\n",
       "    </g>\n",
       "</svg>\n",
       "  </button>\n",
       "\n",
       "<style>\n",
       "  .colab-df-quickchart {\n",
       "      --bg-color: #E8F0FE;\n",
       "      --fill-color: #1967D2;\n",
       "      --hover-bg-color: #E2EBFA;\n",
       "      --hover-fill-color: #174EA6;\n",
       "      --disabled-fill-color: #AAA;\n",
       "      --disabled-bg-color: #DDD;\n",
       "  }\n",
       "\n",
       "  [theme=dark] .colab-df-quickchart {\n",
       "      --bg-color: #3B4455;\n",
       "      --fill-color: #D2E3FC;\n",
       "      --hover-bg-color: #434B5C;\n",
       "      --hover-fill-color: #FFFFFF;\n",
       "      --disabled-bg-color: #3B4455;\n",
       "      --disabled-fill-color: #666;\n",
       "  }\n",
       "\n",
       "  .colab-df-quickchart {\n",
       "    background-color: var(--bg-color);\n",
       "    border: none;\n",
       "    border-radius: 50%;\n",
       "    cursor: pointer;\n",
       "    display: none;\n",
       "    fill: var(--fill-color);\n",
       "    height: 32px;\n",
       "    padding: 0;\n",
       "    width: 32px;\n",
       "  }\n",
       "\n",
       "  .colab-df-quickchart:hover {\n",
       "    background-color: var(--hover-bg-color);\n",
       "    box-shadow: 0 1px 2px rgba(60, 64, 67, 0.3), 0 1px 3px 1px rgba(60, 64, 67, 0.15);\n",
       "    fill: var(--button-hover-fill-color);\n",
       "  }\n",
       "\n",
       "  .colab-df-quickchart-complete:disabled,\n",
       "  .colab-df-quickchart-complete:disabled:hover {\n",
       "    background-color: var(--disabled-bg-color);\n",
       "    fill: var(--disabled-fill-color);\n",
       "    box-shadow: none;\n",
       "  }\n",
       "\n",
       "  .colab-df-spinner {\n",
       "    border: 2px solid var(--fill-color);\n",
       "    border-color: transparent;\n",
       "    border-bottom-color: var(--fill-color);\n",
       "    animation:\n",
       "      spin 1s steps(1) infinite;\n",
       "  }\n",
       "\n",
       "  @keyframes spin {\n",
       "    0% {\n",
       "      border-color: transparent;\n",
       "      border-bottom-color: var(--fill-color);\n",
       "      border-left-color: var(--fill-color);\n",
       "    }\n",
       "    20% {\n",
       "      border-color: transparent;\n",
       "      border-left-color: var(--fill-color);\n",
       "      border-top-color: var(--fill-color);\n",
       "    }\n",
       "    30% {\n",
       "      border-color: transparent;\n",
       "      border-left-color: var(--fill-color);\n",
       "      border-top-color: var(--fill-color);\n",
       "      border-right-color: var(--fill-color);\n",
       "    }\n",
       "    40% {\n",
       "      border-color: transparent;\n",
       "      border-right-color: var(--fill-color);\n",
       "      border-top-color: var(--fill-color);\n",
       "    }\n",
       "    60% {\n",
       "      border-color: transparent;\n",
       "      border-right-color: var(--fill-color);\n",
       "    }\n",
       "    80% {\n",
       "      border-color: transparent;\n",
       "      border-right-color: var(--fill-color);\n",
       "      border-bottom-color: var(--fill-color);\n",
       "    }\n",
       "    90% {\n",
       "      border-color: transparent;\n",
       "      border-bottom-color: var(--fill-color);\n",
       "    }\n",
       "  }\n",
       "</style>\n",
       "\n",
       "  <script>\n",
       "    async function quickchart(key) {\n",
       "      const quickchartButtonEl =\n",
       "        document.querySelector('#' + key + ' button');\n",
       "      quickchartButtonEl.disabled = true;  // To prevent multiple clicks.\n",
       "      quickchartButtonEl.classList.add('colab-df-spinner');\n",
       "      try {\n",
       "        const charts = await google.colab.kernel.invokeFunction(\n",
       "            'suggestCharts', [key], {});\n",
       "      } catch (error) {\n",
       "        console.error('Error during call to suggestCharts:', error);\n",
       "      }\n",
       "      quickchartButtonEl.classList.remove('colab-df-spinner');\n",
       "      quickchartButtonEl.classList.add('colab-df-quickchart-complete');\n",
       "    }\n",
       "    (() => {\n",
       "      let quickchartButtonEl =\n",
       "        document.querySelector('#df-edb90c05-ff71-4abc-8eb2-eebd2f8559c3 button');\n",
       "      quickchartButtonEl.style.display =\n",
       "        google.colab.kernel.accessAllowed ? 'block' : 'none';\n",
       "    })();\n",
       "  </script>\n",
       "</div>\n",
       "    </div>\n",
       "  </div>\n"
      ],
      "text/plain": [
       "                 Accuracy  Precision  Recall  F1_Score\n",
       "All are honest     0.3984    0.36756  0.3984  0.362154\n",
       "#2 is dishonest    0.1009    0.29096  0.1009  0.039715"
      ]
     },
     "execution_count": 51,
     "metadata": {},
     "output_type": "execute_result"
    }
   ],
   "source": [
    "### Plot the model's performance for the 6 clients, one of them (number=2) is dishonest\n",
    "\n",
    "ErrorMetrics = []\n",
    "ErrorMetrics.append(test_accuracy_dishonest)\n",
    "ErrorMetrics.append(test_precision_dishonest)\n",
    "ErrorMetrics.append(test_recall_dishonest)\n",
    "ErrorMetrics.append(test_f1_score_dishonest)\n",
    "\n",
    "print(ErrorMetrics)\n",
    "\n",
    "ErrorMetrics_pd = pd.DataFrame(ErrorMetrics)\n",
    "ErrorMetrics_pd.columns = ['All are honest', '#2 is dishonest']\n",
    "ErrorMetrics_pd = ErrorMetrics_pd.T\n",
    "ErrorMetrics_pd.columns = ['Accuracy','Precision','Recall','F1_Score']\n",
    "ErrorMetrics_pd"
   ]
  },
  {
   "cell_type": "code",
   "execution_count": 52,
   "metadata": {
    "colab": {
     "base_uri": "https://localhost:8080/",
     "height": 540
    },
    "id": "youJAlYxg6Fb",
    "outputId": "acf50153-84a9-4ec6-8d16-088c1deab32b"
   },
   "outputs": [
    {
     "data": {
      "text/plain": [
       "<Axes: >"
      ]
     },
     "execution_count": 52,
     "metadata": {},
     "output_type": "execute_result"
    },
    {
     "data": {
      "image/png": "[encoded data removed]",
      "text/plain": [
       "<Figure size 640x480 with 1 Axes>"
      ]
     },
     "metadata": {},
     "output_type": "display_data"
    }
   ],
   "source": [
    "\n",
    "ErrorMetrics_pd.plot.bar(width=0.7, alpha=0.7)"
   ]
  },
  {
   "cell_type": "markdown",
   "metadata": {
    "id": "PQVf56VHHNQe"
   },
   "source": [
    "# Challenges (Optional):\n",
    "\n",
    "## The above code is for one communication round. Write code for multiple communication rounds. In each communication round, clients will train the model on a new dataset. Then the server will merge all these models. Subsequently, the clients will retrain the merged model in the next communication round.\n",
    "\n"
   ]
  },
  {
   "cell_type": "code",
   "execution_count": 51,
   "metadata": {
    "id": "cl9WYBFsgbZQ"
   },
   "outputs": [],
   "source": []
  }
 ],
 "metadata": {
  "accelerator": "GPU",
  "colab": {
   "gpuType": "T4",
   "provenance": []
  },
  "kernelspec": {
   "display_name": "Python 3 (ipykernel)",
   "language": "python",
   "name": "python3"
  },
  "language_info": {
   "codemirror_mode": {
    "name": "ipython",
    "version": 3
   },
   "file_extension": ".py",
   "mimetype": "text/x-python",
   "name": "python",
   "nbconvert_exporter": "python",
   "pygments_lexer": "ipython3",
   "version": "3.11.5"
  }
 },
 "nbformat": 4,
 "nbformat_minor": 1
}
