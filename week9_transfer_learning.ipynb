{
 "cells": [
  {
   "cell_type": "code",
   "execution_count": null,
   "id": "5d0f21bb",
   "metadata": {
    "id": "5d0f21bb"
   },
   "outputs": [],
   "source": [
    "# pip install Pillow"
   ]
  },
  {
   "cell_type": "code",
   "execution_count": 6,
   "id": "eb02b24f",
   "metadata": {
    "id": "eb02b24f"
   },
   "outputs": [],
   "source": [
    "# Pandas and Numpy for data structures and util fucntions\n",
    "import scipy as sp\n",
    "import numpy as np\n",
    "import pandas as pd\n",
    "from numpy.random import rand\n",
    "pd.options.display.max_colwidth = 600\n",
    "\n",
    "# Scikit Imports\n",
    "from sklearn import preprocessing\n",
    "from sklearn.metrics import roc_curve, auc, precision_recall_curve\n",
    "from sklearn.model_selection import train_test_split\n",
    "\n",
    "import cnn_utils as utils\n",
    "from model_evaluation_utils import get_metrics\n",
    "\n",
    "# Matplot Imports\n",
    "import matplotlib.pyplot as plt\n",
    "params = {'legend.fontsize': 'x-large',\n",
    "          'figure.figsize': (15, 5),\n",
    "          'axes.labelsize': 'x-large',\n",
    "          'axes.titlesize':'x-large',\n",
    "          'xtick.labelsize':'x-large',\n",
    "          'ytick.labelsize':'x-large'}\n",
    "\n",
    "plt.rcParams.update(params)\n",
    "%matplotlib inline\n",
    "\n",
    "# pandas display data frames as tables\n",
    "from IPython.display import display, HTML\n",
    "\n",
    "import warnings\n",
    "warnings.filterwarnings('ignore')"
   ]
  },
  {
   "cell_type": "code",
   "execution_count": 8,
   "id": "6c8eba74",
   "metadata": {
    "id": "6c8eba74"
   },
   "outputs": [],
   "source": [
    "import tensorflow as tf\n",
    "from keras import callbacks\n",
    "from keras import optimizers\n",
    "from keras.datasets import cifar10\n",
    "from keras import Model\n",
    "from keras.applications import vgg16 as vgg\n",
    "from keras.layers import Dropout, Flatten, Dense, GlobalAveragePooling2D,BatchNormalization\n",
    "from keras.preprocessing.image import ImageDataGenerator\n",
    "\n",
    "from PIL import Image\n",
    "from tensorflow.python.keras.utils import np_utils"
   ]
  },
  {
   "cell_type": "code",
   "execution_count": 28,
   "id": "442bae46",
   "metadata": {
    "id": "442bae46"
   },
   "outputs": [],
   "source": [
    "BATCH_SIZE = 64\n",
    "EPOCHS = 5\n",
    "NUM_CLASSES = 10\n",
    "LEARNING_RATE = 1e-4\n",
    "MOMENTUM = 0.9"
   ]
  },
  {
   "cell_type": "code",
   "execution_count": 10,
   "id": "e1997ebc",
   "metadata": {
    "colab": {
     "base_uri": "https://localhost:8080/"
    },
    "id": "e1997ebc",
    "outputId": "2836f361-1bcc-46e1-b908-e24d0c8f7f73"
   },
   "outputs": [
    {
     "name": "stdout",
     "output_type": "stream",
     "text": [
      "Downloading data from https://www.cs.toronto.edu/~kriz/cifar-10-python.tar.gz\n",
      "170498071/170498071 [==============================] - 5s 0us/step\n"
     ]
    }
   ],
   "source": [
    "(X_train, y_train), (X_test, y_test) = cifar10.load_data()"
   ]
  },
  {
   "cell_type": "code",
   "execution_count": 11,
   "id": "dfbc268a",
   "metadata": {
    "id": "dfbc268a"
   },
   "outputs": [],
   "source": [
    "X_train, X_val, y_train, y_val = train_test_split(X_train,\n",
    "                                                  y_train,\n",
    "                                                  test_size=0.15,\n",
    "                                                  stratify=np.array(y_train),\n",
    "                                                  random_state=42)"
   ]
  },
  {
   "cell_type": "code",
   "execution_count": 12,
   "id": "d4afe54e",
   "metadata": {
    "id": "d4afe54e"
   },
   "outputs": [],
   "source": [
    "Y_train = np_utils.to_categorical(y_train, NUM_CLASSES)\n",
    "Y_val = np_utils.to_categorical(y_val, NUM_CLASSES)\n",
    "Y_test = np_utils.to_categorical(y_test, NUM_CLASSES)"
   ]
  },
  {
   "cell_type": "code",
   "execution_count": 13,
   "id": "bda730ab",
   "metadata": {
    "colab": {
     "base_uri": "https://localhost:8080/"
    },
    "id": "bda730ab",
    "outputId": "b2818feb-57d8-4d05-c279-777145c993bc"
   },
   "outputs": [
    {
     "name": "stdout",
     "output_type": "stream",
     "text": [
      "[[[[130 157 243]\n",
      "   [125 153 239]\n",
      "   [120 149 238]\n",
      "   ...\n",
      "   [114 144 230]\n",
      "   [118 145 233]\n",
      "   [118 144 233]]\n",
      "\n",
      "  [[131 158 243]\n",
      "   [126 155 241]\n",
      "   [122 152 240]\n",
      "   ...\n",
      "   [109 140 227]\n",
      "   [110 139 227]\n",
      "   [108 137 225]]\n",
      "\n",
      "  [[130 159 245]\n",
      "   [121 152 239]\n",
      "   [113 146 234]\n",
      "   ...\n",
      "   [103 135 225]\n",
      "   [ 99 131 221]\n",
      "   [ 95 128 218]]\n",
      "\n",
      "  ...\n",
      "\n",
      "  [[115  98 109]\n",
      "   [111  94 104]\n",
      "   [108  91 102]\n",
      "   ...\n",
      "   [131 115 126]\n",
      "   [125 109 120]\n",
      "   [113  97 108]]\n",
      "\n",
      "  [[107  89 101]\n",
      "   [107  90 101]\n",
      "   [112  96 107]\n",
      "   ...\n",
      "   [124 108 119]\n",
      "   [115  99 110]\n",
      "   [109  94 105]]\n",
      "\n",
      "  [[113  96 108]\n",
      "   [120 104 115]\n",
      "   [125 108 120]\n",
      "   ...\n",
      "   [116 101 111]\n",
      "   [110  97 107]\n",
      "   [113 100 110]]]\n",
      "\n",
      "\n",
      " [[[  7   5  73]\n",
      "   [  1   5  71]\n",
      "   [  3  14  86]\n",
      "   ...\n",
      "   [ 26  49  71]\n",
      "   [ 18  42  47]\n",
      "   [ 21  42  33]]\n",
      "\n",
      "  [[  3   2  68]\n",
      "   [  2  10  73]\n",
      "   [  4  22  83]\n",
      "   ...\n",
      "   [ 22  35  79]\n",
      "   [ 41  62  84]\n",
      "   [ 44  71  64]]\n",
      "\n",
      "  [[  1  10  65]\n",
      "   [  3  20  74]\n",
      "   [  2  25  78]\n",
      "   ...\n",
      "   [ 64  87 106]\n",
      "   [ 78 107 111]\n",
      "   [ 59  95  82]]\n",
      "\n",
      "  ...\n",
      "\n",
      "  [[139 160  84]\n",
      "   [135 155  75]\n",
      "   [139 155  80]\n",
      "   ...\n",
      "   [108 144  71]\n",
      "   [104 138  67]\n",
      "   [108 139  70]]\n",
      "\n",
      "  [[136 171  85]\n",
      "   [131 165  77]\n",
      "   [133 163  80]\n",
      "   ...\n",
      "   [104 143  70]\n",
      "   [105 142  69]\n",
      "   [107 141  70]]\n",
      "\n",
      "  [[118 164  73]\n",
      "   [116 161  73]\n",
      "   [118 160  75]\n",
      "   ...\n",
      "   [116 156  83]\n",
      "   [124 164  91]\n",
      "   [122 160  88]]]\n",
      "\n",
      "\n",
      " [[[ 68 149 215]\n",
      "   [ 69 148 210]\n",
      "   [ 72 148 208]\n",
      "   ...\n",
      "   [ 78 150 207]\n",
      "   [ 78 150 207]\n",
      "   [ 79 152 218]]\n",
      "\n",
      "  [[ 71 147 213]\n",
      "   [ 72 146 209]\n",
      "   [ 75 145 206]\n",
      "   ...\n",
      "   [ 81 147 205]\n",
      "   [ 82 148 207]\n",
      "   [ 82 150 217]]\n",
      "\n",
      "  [[ 75 148 216]\n",
      "   [ 77 147 211]\n",
      "   [ 78 146 209]\n",
      "   ...\n",
      "   [ 85 148 207]\n",
      "   [ 86 149 209]\n",
      "   [ 86 151 219]]\n",
      "\n",
      "  ...\n",
      "\n",
      "  [[118 113 102]\n",
      "   [104  96  84]\n",
      "   [108  98  84]\n",
      "   ...\n",
      "   [191 182 185]\n",
      "   [235 226 244]\n",
      "   [234 226 241]]\n",
      "\n",
      "  [[208 202 196]\n",
      "   [171 162 154]\n",
      "   [116 105  95]\n",
      "   ...\n",
      "   [234 226 229]\n",
      "   [235 227 241]\n",
      "   [237 226 238]]\n",
      "\n",
      "  [[197 190 187]\n",
      "   [163 154 150]\n",
      "   [123 111 104]\n",
      "   ...\n",
      "   [238 230 232]\n",
      "   [234 226 231]\n",
      "   [237 225 231]]]\n",
      "\n",
      "\n",
      " ...\n",
      "\n",
      "\n",
      " [[[ 46  72  92]\n",
      "   [ 47  72  92]\n",
      "   [ 47  72  92]\n",
      "   ...\n",
      "   [ 46  73  92]\n",
      "   [ 46  74  93]\n",
      "   [ 46  74  93]]\n",
      "\n",
      "  [[ 46  72  89]\n",
      "   [ 46  72  88]\n",
      "   [ 46  72  88]\n",
      "   ...\n",
      "   [ 45  72  88]\n",
      "   [ 45  72  88]\n",
      "   [ 46  73  89]]\n",
      "\n",
      "  [[ 48  74  88]\n",
      "   [ 46  72  86]\n",
      "   [ 46  72  85]\n",
      "   ...\n",
      "   [ 47  75  88]\n",
      "   [ 46  74  87]\n",
      "   [ 46  75  87]]\n",
      "\n",
      "  ...\n",
      "\n",
      "  [[ 41  68  80]\n",
      "   [ 38  64  77]\n",
      "   [ 37  64  76]\n",
      "   ...\n",
      "   [ 41  65  77]\n",
      "   [ 40  62  75]\n",
      "   [ 39  61  74]]\n",
      "\n",
      "  [[ 39  63  77]\n",
      "   [ 38  62  76]\n",
      "   [ 40  65  78]\n",
      "   ...\n",
      "   [ 41  65  78]\n",
      "   [ 40  62  75]\n",
      "   [ 42  64  77]]\n",
      "\n",
      "  [[ 38  61  75]\n",
      "   [ 35  58  72]\n",
      "   [ 31  55  68]\n",
      "   ...\n",
      "   [ 48  72  84]\n",
      "   [ 51  73  86]\n",
      "   [ 47  69  82]]]\n",
      "\n",
      "\n",
      " [[[238 195 149]\n",
      "   [235 191 143]\n",
      "   [238 194 145]\n",
      "   ...\n",
      "   [223 147  74]\n",
      "   [161 121  71]\n",
      "   [ 81  94  78]]\n",
      "\n",
      "  [[239 194 147]\n",
      "   [242 197 149]\n",
      "   [241 198 148]\n",
      "   ...\n",
      "   [225 146  73]\n",
      "   [157 107  61]\n",
      "   [ 62  59  49]]\n",
      "\n",
      "  [[241 199 149]\n",
      "   [251 209 158]\n",
      "   [243 200 148]\n",
      "   ...\n",
      "   [223 144  70]\n",
      "   [158 107  60]\n",
      "   [ 67  60  50]]\n",
      "\n",
      "  ...\n",
      "\n",
      "  [[ 12  16  16]\n",
      "   [ 12  15  12]\n",
      "   [ 10  12   4]\n",
      "   ...\n",
      "   [ 44  35  34]\n",
      "   [ 33  23  25]\n",
      "   [ 30  43  42]]\n",
      "\n",
      "  [[ 11  15  17]\n",
      "   [ 12  12  12]\n",
      "   [ 33  28  25]\n",
      "   ...\n",
      "   [ 48  40  35]\n",
      "   [ 17  15  12]\n",
      "   [ 30  37  35]]\n",
      "\n",
      "  [[ 45  68  69]\n",
      "   [ 11  25  27]\n",
      "   [ 31  37  38]\n",
      "   ...\n",
      "   [ 33  36  33]\n",
      "   [ 14  22  19]\n",
      "   [ 33  50  48]]]\n",
      "\n",
      "\n",
      " [[[ 66  66  66]\n",
      "   [ 78  78  78]\n",
      "   [ 85  85  85]\n",
      "   ...\n",
      "   [236 236 236]\n",
      "   [233 233 233]\n",
      "   [226 226 226]]\n",
      "\n",
      "  [[ 72  72  72]\n",
      "   [ 91  91  91]\n",
      "   [ 91  91  91]\n",
      "   ...\n",
      "   [223 223 223]\n",
      "   [197 197 197]\n",
      "   [201 201 201]]\n",
      "\n",
      "  [[ 73  73  73]\n",
      "   [ 94  94  94]\n",
      "   [110 110 110]\n",
      "   ...\n",
      "   [243 243 243]\n",
      "   [219 219 219]\n",
      "   [187 187 187]]\n",
      "\n",
      "  ...\n",
      "\n",
      "  [[213 213 213]\n",
      "   [216 216 216]\n",
      "   [216 216 216]\n",
      "   ...\n",
      "   [186 186 186]\n",
      "   [182 182 182]\n",
      "   [174 174 174]]\n",
      "\n",
      "  [[210 210 210]\n",
      "   [215 215 215]\n",
      "   [215 215 215]\n",
      "   ...\n",
      "   [115 115 115]\n",
      "   [152 152 152]\n",
      "   [193 193 193]]\n",
      "\n",
      "  [[200 200 200]\n",
      "   [210 210 210]\n",
      "   [209 209 209]\n",
      "   ...\n",
      "   [108 108 108]\n",
      "   [129 129 129]\n",
      "   [166 166 166]]]]\n"
     ]
    }
   ],
   "source": [
    "print(X_train)"
   ]
  },
  {
   "cell_type": "code",
   "execution_count": null,
   "id": "cdc09f26",
   "metadata": {
    "id": "cdc09f26"
   },
   "outputs": [],
   "source": [
    "# # X_train = np.array([sp.misc.imresize(x,\n",
    "# #                                      (48, 48)) for x in X_train])\n",
    "# X_train= np.array([Image.fromarray(x).resize((48,48)) for x in X_train])\n",
    "\n",
    "# # X_val = np.array([sp.misc.imresize(x,\n",
    "# #                                    (48, 48)) for x in X_val])\n",
    "# X_val = np.array([Image.fromarray(x).resize((48,48)) for x in X_val])\n",
    "# # X_test = np.array([sp.misc.imresize(x,\n",
    "# #                                     (48, 48)) for x in X_test])\n",
    "# X_test = np.array([Image.fromarray(x).resize((48,48)) for x in X_test])"
   ]
  },
  {
   "cell_type": "code",
   "execution_count": null,
   "id": "d890164e",
   "metadata": {
    "id": "d890164e"
   },
   "outputs": [],
   "source": [
    "# print(X_train.shape)\n",
    "# print(X_val.shape)\n",
    "# print(X_test.shape)"
   ]
  },
  {
   "cell_type": "code",
   "execution_count": null,
   "id": "38245736",
   "metadata": {
    "id": "38245736"
   },
   "outputs": [],
   "source": [
    "# pip install scikit-image"
   ]
  },
  {
   "cell_type": "code",
   "execution_count": 14,
   "id": "24a02d39",
   "metadata": {
    "id": "24a02d39"
   },
   "outputs": [],
   "source": [
    "from skimage import transform"
   ]
  },
  {
   "cell_type": "code",
   "execution_count": 15,
   "id": "f3518b34",
   "metadata": {
    "id": "f3518b34"
   },
   "outputs": [],
   "source": [
    "# X_train = np.array([sp.misc.imresize(x,\n",
    "#                                      (48, 48)) for x in X_train])\n",
    "X_train= np.array([transform.resize(x, (48,48)) for x in X_train])\n",
    "\n",
    "# X_val = np.array([sp.misc.imresize(x,\n",
    "#                                    (48, 48)) for x in X_val])\n",
    "X_val = np.array([transform.resize(x, (48,48)) for x in X_val])\n",
    "# X_test = np.array([sp.misc.imresize(x,\n",
    "#                                     (48, 48)) for x in X_test])\n",
    "X_test = np.array([transform.resize(x, (48,48)) for x in X_test])"
   ]
  },
  {
   "cell_type": "code",
   "execution_count": null,
   "id": "c20bd819",
   "metadata": {
    "id": "c20bd819",
    "outputId": "cc3e391e-f2cb-4a4f-8853-e6c940e22bb0"
   },
   "outputs": [
    {
     "name": "stdout",
     "output_type": "stream",
     "text": [
      "(42500, 48, 48, 3)\n",
      "(7500, 48, 48, 3)\n",
      "(10000, 48, 48, 3)\n"
     ]
    }
   ],
   "source": [
    "print(X_train.shape)\n",
    "print(X_val.shape)\n",
    "print(X_test.shape)"
   ]
  },
  {
   "cell_type": "code",
   "execution_count": 16,
   "id": "ff0998d9",
   "metadata": {
    "colab": {
     "base_uri": "https://localhost:8080/"
    },
    "id": "ff0998d9",
    "outputId": "afb85ef7-7dc2-43d1-b7c1-a616a049f693"
   },
   "outputs": [
    {
     "name": "stdout",
     "output_type": "stream",
     "text": [
      "Downloading data from https://storage.googleapis.com/tensorflow/keras-applications/vgg16/vgg16_weights_tf_dim_ordering_tf_kernels_notop.h5\n",
      "58889256/58889256 [==============================] - 0s 0us/step\n"
     ]
    }
   ],
   "source": [
    "base_model = vgg.VGG16(weights='imagenet',\n",
    "                       include_top=False,\n",
    "                       input_shape=(48, 48, 3))"
   ]
  },
  {
   "cell_type": "code",
   "execution_count": 17,
   "id": "b16b3c9a",
   "metadata": {
    "id": "b16b3c9a"
   },
   "outputs": [],
   "source": [
    "# Extract the last layer from third block of vgg16 model\n",
    "last = base_model.get_layer('block3_pool').output"
   ]
  },
  {
   "cell_type": "code",
   "execution_count": 18,
   "id": "9d5e3627",
   "metadata": {
    "id": "9d5e3627"
   },
   "outputs": [],
   "source": [
    "# Add classification layers on top of it\n",
    "x = GlobalAveragePooling2D()(last)\n",
    "x= BatchNormalization()(x)\n",
    "x = Dense(256, activation='relu')(x)\n",
    "x = Dense(256, activation='relu')(x)\n",
    "x = Dropout(0.6)(x)\n",
    "pred = Dense(NUM_CLASSES, activation='softmax')(x)\n",
    "model = Model(base_model.input, pred)"
   ]
  },
  {
   "cell_type": "code",
   "execution_count": 19,
   "id": "c70d12b6",
   "metadata": {
    "id": "c70d12b6"
   },
   "outputs": [],
   "source": [
    "for layer in base_model.layers:\n",
    "     layer.trainable = False"
   ]
  },
  {
   "cell_type": "code",
   "execution_count": 20,
   "id": "48b2272b",
   "metadata": {
    "colab": {
     "base_uri": "https://localhost:8080/"
    },
    "id": "48b2272b",
    "outputId": "c0e4921b-7e59-4eba-ad08-e8ee70e2eb8d"
   },
   "outputs": [
    {
     "name": "stderr",
     "output_type": "stream",
     "text": [
      "WARNING:absl:`lr` is deprecated in Keras optimizer, please use `learning_rate` or use the legacy optimizer, e.g.,tf.keras.optimizers.legacy.Adam.\n"
     ]
    }
   ],
   "source": [
    "model.compile(loss='binary_crossentropy',\n",
    "              optimizer=optimizers.Adam(lr=LEARNING_RATE),\n",
    "              metrics=['accuracy'])"
   ]
  },
  {
   "cell_type": "code",
   "execution_count": 21,
   "id": "bc9f6d2b",
   "metadata": {
    "colab": {
     "base_uri": "https://localhost:8080/"
    },
    "id": "bc9f6d2b",
    "outputId": "cf93154e-f155-4e2e-fb86-35836d6b14d1"
   },
   "outputs": [
    {
     "name": "stdout",
     "output_type": "stream",
     "text": [
      "Model: \"model\"\n",
      "_________________________________________________________________\n",
      " Layer (type)                Output Shape              Param #   \n",
      "=================================================================\n",
      " input_1 (InputLayer)        [(None, 48, 48, 3)]       0         \n",
      "                                                                 \n",
      " block1_conv1 (Conv2D)       (None, 48, 48, 64)        1792      \n",
      "                                                                 \n",
      " block1_conv2 (Conv2D)       (None, 48, 48, 64)        36928     \n",
      "                                                                 \n",
      " block1_pool (MaxPooling2D)  (None, 24, 24, 64)        0         \n",
      "                                                                 \n",
      " block2_conv1 (Conv2D)       (None, 24, 24, 128)       73856     \n",
      "                                                                 \n",
      " block2_conv2 (Conv2D)       (None, 24, 24, 128)       147584    \n",
      "                                                                 \n",
      " block2_pool (MaxPooling2D)  (None, 12, 12, 128)       0         \n",
      "                                                                 \n",
      " block3_conv1 (Conv2D)       (None, 12, 12, 256)       295168    \n",
      "                                                                 \n",
      " block3_conv2 (Conv2D)       (None, 12, 12, 256)       590080    \n",
      "                                                                 \n",
      " block3_conv3 (Conv2D)       (None, 12, 12, 256)       590080    \n",
      "                                                                 \n",
      " block3_pool (MaxPooling2D)  (None, 6, 6, 256)         0         \n",
      "                                                                 \n",
      " global_average_pooling2d (  (None, 256)               0         \n",
      " GlobalAveragePooling2D)                                         \n",
      "                                                                 \n",
      " batch_normalization (Batch  (None, 256)               1024      \n",
      " Normalization)                                                  \n",
      "                                                                 \n",
      " dense (Dense)               (None, 256)               65792     \n",
      "                                                                 \n",
      " dense_1 (Dense)             (None, 256)               65792     \n",
      "                                                                 \n",
      " dropout (Dropout)           (None, 256)               0         \n",
      "                                                                 \n",
      " dense_2 (Dense)             (None, 10)                2570      \n",
      "                                                                 \n",
      "=================================================================\n",
      "Total params: 1870666 (7.14 MB)\n",
      "Trainable params: 134666 (526.04 KB)\n",
      "Non-trainable params: 1736000 (6.62 MB)\n",
      "_________________________________________________________________\n"
     ]
    }
   ],
   "source": [
    "model.summary()"
   ]
  },
  {
   "cell_type": "code",
   "execution_count": 22,
   "id": "b03b4aee",
   "metadata": {
    "id": "b03b4aee"
   },
   "outputs": [],
   "source": [
    "# prepare data augmentation configuration\n",
    "train_datagen = ImageDataGenerator(\n",
    "    rescale=1. / 255,\n",
    "    horizontal_flip=False)"
   ]
  },
  {
   "cell_type": "code",
   "execution_count": 23,
   "id": "e9e661e8",
   "metadata": {
    "id": "e9e661e8"
   },
   "outputs": [],
   "source": [
    "train_datagen.fit(X_train)\n",
    "train_generator = train_datagen.flow(X_train,\n",
    "                                     Y_train,\n",
    "                                     batch_size=BATCH_SIZE)"
   ]
  },
  {
   "cell_type": "code",
   "execution_count": 24,
   "id": "faa23332",
   "metadata": {
    "id": "faa23332"
   },
   "outputs": [],
   "source": [
    "val_datagen = ImageDataGenerator(rescale=1. / 255,\n",
    "    horizontal_flip=False)\n",
    "\n",
    "val_datagen.fit(X_val)\n",
    "val_generator = val_datagen.flow(X_val,\n",
    "                                 Y_val,\n",
    "                                 batch_size=BATCH_SIZE)"
   ]
  },
  {
   "cell_type": "code",
   "execution_count": 29,
   "id": "e91f836b",
   "metadata": {
    "colab": {
     "base_uri": "https://localhost:8080/"
    },
    "id": "e91f836b",
    "outputId": "edd9d690-6a47-469b-8635-ce98fee7237b"
   },
   "outputs": [
    {
     "name": "stdout",
     "output_type": "stream",
     "text": [
      "Epoch 1/5\n",
      "664/664 [==============================] - 431s 650ms/step - loss: 0.1991 - accuracy: 0.5554 - val_loss: 0.1797 - val_accuracy: 0.6018\n",
      "Epoch 2/5\n",
      "664/664 [==============================] - 425s 640ms/step - loss: 0.1939 - accuracy: 0.5741 - val_loss: 0.1776 - val_accuracy: 0.6042\n",
      "Epoch 3/5\n",
      "664/664 [==============================] - 410s 617ms/step - loss: 0.1870 - accuracy: 0.5920 - val_loss: 0.1733 - val_accuracy: 0.6167\n",
      "Epoch 4/5\n",
      "664/664 [==============================] - 430s 649ms/step - loss: 0.1823 - accuracy: 0.6050 - val_loss: 0.1662 - val_accuracy: 0.6386\n",
      "Epoch 5/5\n",
      "664/664 [==============================] - 431s 649ms/step - loss: 0.1775 - accuracy: 0.6172 - val_loss: 0.1686 - val_accuracy: 0.6303\n"
     ]
    }
   ],
   "source": [
    "train_steps_per_epoch = X_train.shape[0] // BATCH_SIZE\n",
    "val_steps_per_epoch = X_val.shape[0] // BATCH_SIZE\n",
    "\n",
    "history = model.fit_generator(train_generator,\n",
    "                              steps_per_epoch=train_steps_per_epoch,\n",
    "                              validation_data=val_generator,\n",
    "                              validation_steps=val_steps_per_epoch,\n",
    "                              epochs=EPOCHS,\n",
    "                              verbose=1)"
   ]
  },
  {
   "cell_type": "code",
   "execution_count": null,
   "id": "196df606",
   "metadata": {
    "id": "196df606",
    "outputId": "f89557a3-8eb0-4820-e886-88d8eefeb13d"
   },
   "outputs": [
    {
     "data": {
      "image/png": "[encoded data removed]",
      "text/plain": [
       "<Figure size 1500x500 with 2 Axes>"
      ]
     },
     "metadata": {},
     "output_type": "display_data"
    }
   ],
   "source": [
    "f, (ax1, ax2) = plt.subplots(1, 2, figsize=(15, 5))\n",
    "t = f.suptitle('Deep Neural Net Performance', fontsize=12)\n",
    "f.subplots_adjust(top=0.85, wspace=0.3)\n",
    "\n",
    "epochs = list(range(1,EPOCHS+1))\n",
    "ax1.plot(epochs, history.history['accuracy'], label='Train Accuracy')\n",
    "ax1.plot(epochs, history.history['val_accuracy'], label='Validation Accuracy')\n",
    "ax1.set_xticks(epochs)\n",
    "ax1.set_ylabel('Accuracy Value')\n",
    "ax1.set_xlabel('Epoch')\n",
    "ax1.set_title('Accuracy')\n",
    "l1 = ax1.legend(loc=\"best\")\n",
    "\n",
    "ax2.plot(epochs, history.history['loss'], label='Train Loss')\n",
    "ax2.plot(epochs, history.history['val_loss'], label='Validation Loss')\n",
    "ax2.set_xticks(epochs)\n",
    "ax2.set_ylabel('Loss Value')\n",
    "ax2.set_xlabel('Epoch')\n",
    "ax2.set_title('Loss')\n",
    "l2 = ax2.legend(loc=\"best\")"
   ]
  },
  {
   "cell_type": "code",
   "execution_count": 30,
   "id": "fb4b2b7b",
   "metadata": {
    "colab": {
     "base_uri": "https://localhost:8080/"
    },
    "id": "fb4b2b7b",
    "outputId": "2310bd3a-8f47-41e6-c4aa-8b0e6f84aacc"
   },
   "outputs": [
    {
     "name": "stdout",
     "output_type": "stream",
     "text": [
      "313/313 [==============================] - 169s 539ms/step\n"
     ]
    }
   ],
   "source": [
    "predictions = model.predict(X_test/255.)"
   ]
  },
  {
   "cell_type": "code",
   "execution_count": 31,
   "id": "19179dbf",
   "metadata": {
    "id": "19179dbf"
   },
   "outputs": [],
   "source": [
    "test_labels = list(y_test.squeeze())\n",
    "predictions = list(predictions.argmax(axis=1))"
   ]
  },
  {
   "cell_type": "code",
   "execution_count": 42,
   "id": "hHBddCiZX_42",
   "metadata": {
    "id": "hHBddCiZX_42"
   },
   "outputs": [],
   "source": []
  },
  {
   "cell_type": "code",
   "execution_count": 41,
   "id": "ebcca541",
   "metadata": {
    "colab": {
     "base_uri": "https://localhost:8080/"
    },
    "id": "ebcca541",
    "outputId": "569c1ffa-9759-4537-e6a5-d82d9ee78a44"
   },
   "outputs": [
    {
     "name": "stdout",
     "output_type": "stream",
     "text": [
      "{'Accuracy': 0.4, 'Precision': 0.5, 'Recall': 0.6666666666666666, 'F1 Score': 0.5714285714285715}\n"
     ]
    }
   ],
   "source": [
    "from sklearn.metrics import accuracy_score, precision_score, recall_score, f1_score\n",
    "\n",
    "def get_metrics(true_labels, predicted_labels):\n",
    "    accuracy = accuracy_score(true_labels, predicted_labels)\n",
    "    precision = precision_score(true_labels, predicted_labels)\n",
    "    recall = recall_score(true_labels, predicted_labels)\n",
    "    f1 = f1_score(true_labels, predicted_labels)\n",
    "\n",
    "    metrics = {\n",
    "        'Accuracy': accuracy,\n",
    "        'Precision': precision,\n",
    "        'Recall': recall,\n",
    "        'F1 Score': f1\n",
    "    }\n",
    "\n",
    "    return metrics\n",
    "\n",
    "# Example usage:\n",
    "true_labels = [1, 0, 1, 1, 0]\n",
    "predicted_labels = [1, 1, 1, 0, 1]\n",
    "\n",
    "metrics = get_metrics(true_labels, predicted_labels)\n",
    "print(metrics)"
   ]
  },
  {
   "cell_type": "code",
   "execution_count": 43,
   "id": "t6isND45W1Pm",
   "metadata": {
    "colab": {
     "base_uri": "https://localhost:8080/",
     "height": 575
    },
    "id": "t6isND45W1Pm",
    "outputId": "d930456a-2e70-4ef1-f8e4-f12ce19178a6"
   },
   "outputs": [
    {
     "data": {
      "image/png": "[encoded data removed]",
      "text/plain": [
       "<Figure size 800x600 with 1 Axes>"
      ]
     },
     "metadata": {},
     "output_type": "display_data"
    }
   ],
   "source": [
    "metric_names = list(metrics.keys())\n",
    "metric_values = list(metrics.values())\n",
    "\n",
    "# Create bar plot\n",
    "plt.figure(figsize=(8, 6))\n",
    "plt.bar(metric_names, metric_values, color='skyblue')\n",
    "plt.xlabel('Metrics')\n",
    "plt.ylabel('Score')\n",
    "plt.title('Performance Metrics of VGG-16 Model')\n",
    "plt.ylim(0, 1)  # Set y-axis limit from 0 to 1\n",
    "plt.show()"
   ]
  },
  {
   "cell_type": "code",
   "execution_count": 43,
   "id": "8e6e2e80",
   "metadata": {
    "id": "8e6e2e80"
   },
   "outputs": [],
   "source": []
  },
  {
   "cell_type": "code",
   "execution_count": null,
   "id": "d5aba121",
   "metadata": {
    "id": "d5aba121"
   },
   "outputs": [],
   "source": [
    "label_dict = {0:'airplane',\n",
    "             1:'automobile',\n",
    "             2:'bird',\n",
    "             3:'cat',\n",
    "             4:'deer',\n",
    "             5:'dog',\n",
    "             6:'frog',\n",
    "             7:'horse',\n",
    "             8:'ship',\n",
    "             9:'truck'}"
   ]
  },
  {
   "cell_type": "code",
   "execution_count": 44,
   "id": "3f8664a7",
   "metadata": {
    "id": "3f8664a7"
   },
   "outputs": [],
   "source": []
  },
  {
   "cell_type": "code",
   "execution_count": null,
   "id": "956979d1",
   "metadata": {
    "id": "956979d1"
   },
   "outputs": [],
   "source": []
  }
 ],
 "metadata": {
  "colab": {
   "provenance": []
  },
  "kernelspec": {
   "display_name": "Python 3 (ipykernel)",
   "language": "python",
   "name": "python3"
  },
  "language_info": {
   "codemirror_mode": {
    "name": "ipython",
    "version": 3
   },
   "file_extension": ".py",
   "mimetype": "text/x-python",
   "name": "python",
   "nbconvert_exporter": "python",
   "pygments_lexer": "ipython3",
   "version": "3.11.5"
  }
 },
 "nbformat": 4,
 "nbformat_minor": 5
}
